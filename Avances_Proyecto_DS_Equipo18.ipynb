{
  "nbformat": 4,
  "nbformat_minor": 0,
  "metadata": {
    "colab": {
      "provenance": [],
      "include_colab_link": true
    },
    "kernelspec": {
      "name": "python3",
      "display_name": "Python 3"
    },
    "language_info": {
      "name": "python"
    }
  },
  "cells": [
    {
      "cell_type": "markdown",
      "metadata": {
        "id": "view-in-github",
        "colab_type": "text"
      },
      "source": [
        "<a href=\"https://colab.research.google.com/github/PosgradoMNA/actividades-del-projecto-cad_equipo_18/blob/main/Avances_Proyecto_DS_Equipo18.ipynb\" target=\"_parent\"><img src=\"https://colab.research.google.com/assets/colab-badge.svg\" alt=\"Open In Colab\"/></a>"
      ]
    },
    {
      "cell_type": "markdown",
      "source": [
        "![Logo Tec 21.jpg](data:image/jpeg;base64,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)\n",
        "\n",
        "# **TC4029 Ciencia y analítica de datos**\n",
        "\n",
        "Proyecto final - Avance 1\n",
        "\n",
        "Equipo 18\n",
        "\n",
        "José Eduardo Esperón Carreón A01372413\n",
        "\n",
        "Moisés Rangel Silva A00143704\n",
        "\n",
        "Septiembre 26 de 2022"
      ],
      "metadata": {
        "id": "8IP56Zc_NDVa"
      }
    },
    {
      "cell_type": "markdown",
      "source": [
        "# **Mental Health in Tech Survey**\n",
        "\n",
        "La organización que lo generó:\n",
        "# **MENTAL ILLNESS, LTD**\n",
        "\n",
        "\n",
        "Enlace de Internet donde se puede descargar el base de datos:\n",
        "\n",
        "https://www.kaggle.com/datasets/osmi/mental-health-in-tech-survey?resource=download\n",
        "\n",
        "\n",
        "\n",
        "El conjunto de datos contiene los siguientes datos:\n",
        "\n",
        "**Timestamp**\n",
        "\n",
        "**Age**\n",
        "\n",
        "**Gender**\n",
        "\n",
        "**Country**\n",
        "\n",
        "**state**: If you live in the United States, which state or territory do you live in?\n",
        "\n",
        "**self_employed**: Are you self-employed?\n",
        "\n",
        "**family_history**: Do you have a family history of mental illness?\n",
        "\n",
        "**treatment**: Have you sought treatment for a mental health condition?\n",
        "\n",
        "**work_interfere**: If you have a mental health condition, do you feel that it interferes with your work?\n",
        "\n",
        "**no_employees**: How many employees does your company or organization have?\n",
        "\n",
        "**remote_work**: Do you work remotely (outside of an office) at least 50% of the time?\n",
        "\n",
        "**tech_company**: Is your employer primarily a tech company/organization?\n",
        "\n",
        "**benefits**: Does your employer provide mental health benefits?\n",
        "\n",
        "**care_options**: Do you know the options for mental health care your employer provides?\n",
        "\n",
        "**wellness_program**: Has your employer ever discussed mental health as part of an employee wellness program?\n",
        "\n",
        "**seek_help**: Does your employer provide resources to learn more about mental health issues and how to seek help?\n",
        "\n",
        "**anonymity**: Is your anonymity protected if you choose to take advantage of mental health or substance abuse treatment resources?\n",
        "\n",
        "**leave**: How easy is it for you to take medical leave for a mental health condition?\n",
        "\n",
        "**mentalhealthconsequence**: Do you think that discussing a mental health issue with your employer would have negative consequences?\n",
        "\n",
        "**physhealthconsequence**: Do you think that discussing a physical health issue with your employer would have negative consequences?\n",
        "\n",
        "**coworkers**: Would you be willing to discuss a mental health issue with your coworkers?\n",
        "\n",
        "**supervisor**: Would you be willing to discuss a mental health issue with your direct supervisor(s)?\n",
        "\n",
        "**mentalhealthinterview**: Would you bring up a mental health issue with a potential employer in an interview?\n",
        "\n",
        "**physhealthinterview**: Would you bring up a physical health issue with a potential employer in an interview?\n",
        "\n",
        "**mentalvsphysica**l: Do you feel that your employer takes mental health as seriously as physical health?\n",
        "\n",
        "**obs_consequence**: Have you heard of or observed negative consequences for coworkers with mental health conditions in your workplace?\n",
        "\n",
        "**comments**: Any additional notes or comments\n",
        "\n"
      ],
      "metadata": {
        "id": "WriFrT3lOnUa"
      }
    },
    {
      "cell_type": "markdown",
      "source": [
        "¿Cuáles son algunas de las preguntas de investigación que podría responder con estos datos? Enumere al menos OCHO (no responda las preguntas)."
      ],
      "metadata": {
        "id": "itJVG7kUAIft"
      }
    },
    {
      "cell_type": "markdown",
      "source": [
        "1. ¿Es el autoempleo un común denominador para padecer alguna enfermedad mental?\n",
        "2. ¿Cuál es la relación de tener un empleador que procure tu salud mental contra uno que no?\n",
        "3. ¿En qué zonas geográficas está normalizado poder hablar de salud mental con el jefe inmediato?\n",
        "4. ¿Existe evidencia de que el home office genere mayor cantidad de enfermedades mentales?\n",
        "5. ¿Cuál es el impacto económico esperado en el largo plazo en los sistemas de salud gubernamentales debido a problemas de salud mental? (se buscarán nuevos datos)\n",
        "6. ¿Qué tan sencillo es que se aplique una incapacidad médica debido a una condición de salud mental?\n",
        "7. ¿Cómo afectan los problemas de salud mental en la productividad del trabajo? (se buscarán nuevos datos)\n",
        "8. ¿Existe mayor prevalencia de padecimientos mentales en compañías tecnológicas? "
      ],
      "metadata": {
        "id": "Fu8YNTWGALmS"
      }
    },
    {
      "cell_type": "markdown",
      "source": [
        "¿Qué actor (empresa, sector de la sociedad, organismo descentralizado, gobierno, etc.) estaría interesado en las preguntas mencionadas que identificó?"
      ],
      "metadata": {
        "id": "Mitp127NRQDj"
      }
    },
    {
      "cell_type": "markdown",
      "source": [
        "En el orden en que se muestran las preguntas previas, los posibles interesados a las respuestas consideramos que son:\n",
        "1. Empresas y el sector salud\n",
        "2. Empresas y el trabajador\n",
        "3. Empresas (multinacionales), centros de investigación en salud mental y trabajador\n",
        "4. Empresas, sector salud (gobierno), médicos, psicológos, familias y el trabajador\n",
        "5. Sector salud y contribuyentes\n",
        "6. Sector salud, empresas, aseguradoras, médicos, psicólogos y empleados\n",
        "7. Empresas, gobierno, empleados, sector salud, clientes y proveedores\n",
        "8. Empresas, trabajador, psicólogos y centros de investigación en salud mental"
      ],
      "metadata": {
        "id": "F6BD_qvzFO-I"
      }
    },
    {
      "cell_type": "markdown",
      "source": [
        "Bibliografía\n"
      ],
      "metadata": {
        "id": "19c2cAyuOxx4"
      }
    },
    {
      "cell_type": "markdown",
      "source": [
        "Mental Illness, LTD .(2014). Mental Health in Tech Survey. Recuperado el 27 de septiembre de https://www.kaggle.com/datasets/osmi/mental-health-in-tech-survey/metadata"
      ],
      "metadata": {
        "id": "IbN222DRG8zO"
      }
    },
    {
      "cell_type": "code",
      "execution_count": null,
      "metadata": {
        "id": "3JZbn9T9JFHE"
      },
      "outputs": [],
      "source": []
    }
  ]
}