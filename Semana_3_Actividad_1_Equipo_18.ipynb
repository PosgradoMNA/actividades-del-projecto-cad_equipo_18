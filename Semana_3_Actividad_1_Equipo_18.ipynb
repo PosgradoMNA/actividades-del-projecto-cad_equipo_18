{
  "nbformat": 4,
  "nbformat_minor": 0,
  "metadata": {
    "colab": {
      "provenance": [],
      "authorship_tag": "ABX9TyNlD03IElhYEL85nmxkvAmA",
      "include_colab_link": true
    },
    "kernelspec": {
      "name": "python3",
      "display_name": "Python 3"
    },
    "language_info": {
      "name": "python"
    }
  },
  "cells": [
    {
      "cell_type": "markdown",
      "metadata": {
        "id": "view-in-github",
        "colab_type": "text"
      },
      "source": [
        "<a href=\"https://colab.research.google.com/github/PosgradoMNA/actividades-del-projecto-cad_equipo_18/blob/main/Semana_3_Actividad_1_Equipo_18.ipynb\" target=\"_parent\"><img src=\"https://colab.research.google.com/assets/colab-badge.svg\" alt=\"Open In Colab\"/></a>"
      ]
    },
    {
      "cell_type": "markdown",
      "source": [
        "Semana 3 - Actividad 1\n",
        "\n",
        "Equipo 18\n",
        "\n",
        "Moisés Rangel Silva A00143704\n",
        "\n",
        "José Esperón A\n",
        "\n",
        "\n",
        "Octubre 4 de 2022"
      ],
      "metadata": {
        "id": "3jUnDtY4KR0h"
      }
    },
    {
      "cell_type": "markdown",
      "source": [
        "# **Parte 1**\n",
        "\n",
        "# Fundamentos de bases de datos\n",
        "\n",
        "1. Fundamentos de bases de datos y para ciencia de datos.  \n",
        "\n",
        "\n",
        "2. Fundamentos de almacenes de datos (Data Warehouse) para ciencia de datos."
      ],
      "metadata": {
        "id": "eNRM0xldKjlB"
      }
    },
    {
      "cell_type": "markdown",
      "source": [
        "# **Parte 2**\n",
        "\n",
        "# Selección y limpieza de los Datos en Python\n"
      ],
      "metadata": {
        "id": "ONOaMRwcK3kX"
      }
    },
    {
      "cell_type": "code",
      "source": [
        "#Creación del data frame\n",
        "#Subir el archivo DataDefaultOfCreditCardClients.txt al directorio raíz de Google Colab\n",
        "\n",
        "import pandas as pd\n",
        "import numpy as np\n",
        "\n",
        "PathData = \"/content/DataDefaultOfCreditCardClients.txt\"\n",
        "TCC = pd.read_csv(PathData, index_col=0)  #, header = 0, \n",
        "TCC"
      ],
      "metadata": {
        "colab": {
          "base_uri": "https://localhost:8080/",
          "height": 389
        },
        "id": "KiIWwgC_LHMk",
        "outputId": "61c9e3aa-5d9a-4212-f21b-e5e8c86b4a57"
      },
      "execution_count": null,
      "outputs": [
        {
          "output_type": "error",
          "ename": "FileNotFoundError",
          "evalue": "ignored",
          "traceback": [
            "\u001b[0;31m---------------------------------------------------------------------------\u001b[0m",
            "\u001b[0;31mFileNotFoundError\u001b[0m                         Traceback (most recent call last)",
            "\u001b[0;32m<ipython-input-1-8acce02b7d0a>\u001b[0m in \u001b[0;36m<module>\u001b[0;34m\u001b[0m\n\u001b[1;32m      6\u001b[0m \u001b[0;34m\u001b[0m\u001b[0m\n\u001b[1;32m      7\u001b[0m \u001b[0mPathData\u001b[0m \u001b[0;34m=\u001b[0m \u001b[0;34m\"/content/DataDefaultOfCreditCardClients.txt\"\u001b[0m\u001b[0;34m\u001b[0m\u001b[0;34m\u001b[0m\u001b[0m\n\u001b[0;32m----> 8\u001b[0;31m \u001b[0mTCClientes\u001b[0m \u001b[0;34m=\u001b[0m \u001b[0mpd\u001b[0m\u001b[0;34m.\u001b[0m\u001b[0mread_csv\u001b[0m\u001b[0;34m(\u001b[0m\u001b[0mPathData\u001b[0m\u001b[0;34m,\u001b[0m \u001b[0mindex_col\u001b[0m\u001b[0;34m=\u001b[0m\u001b[0;36m0\u001b[0m\u001b[0;34m)\u001b[0m  \u001b[0;31m#, header = 0,\u001b[0m\u001b[0;34m\u001b[0m\u001b[0;34m\u001b[0m\u001b[0m\n\u001b[0m\u001b[1;32m      9\u001b[0m \u001b[0mTCClientes\u001b[0m\u001b[0;34m\u001b[0m\u001b[0;34m\u001b[0m\u001b[0m\n",
            "\u001b[0;32m/usr/local/lib/python3.7/dist-packages/pandas/util/_decorators.py\u001b[0m in \u001b[0;36mwrapper\u001b[0;34m(*args, **kwargs)\u001b[0m\n\u001b[1;32m    309\u001b[0m                     \u001b[0mstacklevel\u001b[0m\u001b[0;34m=\u001b[0m\u001b[0mstacklevel\u001b[0m\u001b[0;34m,\u001b[0m\u001b[0;34m\u001b[0m\u001b[0;34m\u001b[0m\u001b[0m\n\u001b[1;32m    310\u001b[0m                 )\n\u001b[0;32m--> 311\u001b[0;31m             \u001b[0;32mreturn\u001b[0m \u001b[0mfunc\u001b[0m\u001b[0;34m(\u001b[0m\u001b[0;34m*\u001b[0m\u001b[0margs\u001b[0m\u001b[0;34m,\u001b[0m \u001b[0;34m**\u001b[0m\u001b[0mkwargs\u001b[0m\u001b[0;34m)\u001b[0m\u001b[0;34m\u001b[0m\u001b[0;34m\u001b[0m\u001b[0m\n\u001b[0m\u001b[1;32m    312\u001b[0m \u001b[0;34m\u001b[0m\u001b[0m\n\u001b[1;32m    313\u001b[0m         \u001b[0;32mreturn\u001b[0m \u001b[0mwrapper\u001b[0m\u001b[0;34m\u001b[0m\u001b[0;34m\u001b[0m\u001b[0m\n",
            "\u001b[0;32m/usr/local/lib/python3.7/dist-packages/pandas/io/parsers/readers.py\u001b[0m in \u001b[0;36mread_csv\u001b[0;34m(filepath_or_buffer, sep, delimiter, header, names, index_col, usecols, squeeze, prefix, mangle_dupe_cols, dtype, engine, converters, true_values, false_values, skipinitialspace, skiprows, skipfooter, nrows, na_values, keep_default_na, na_filter, verbose, skip_blank_lines, parse_dates, infer_datetime_format, keep_date_col, date_parser, dayfirst, cache_dates, iterator, chunksize, compression, thousands, decimal, lineterminator, quotechar, quoting, doublequote, escapechar, comment, encoding, encoding_errors, dialect, error_bad_lines, warn_bad_lines, on_bad_lines, delim_whitespace, low_memory, memory_map, float_precision, storage_options)\u001b[0m\n\u001b[1;32m    584\u001b[0m     \u001b[0mkwds\u001b[0m\u001b[0;34m.\u001b[0m\u001b[0mupdate\u001b[0m\u001b[0;34m(\u001b[0m\u001b[0mkwds_defaults\u001b[0m\u001b[0;34m)\u001b[0m\u001b[0;34m\u001b[0m\u001b[0;34m\u001b[0m\u001b[0m\n\u001b[1;32m    585\u001b[0m \u001b[0;34m\u001b[0m\u001b[0m\n\u001b[0;32m--> 586\u001b[0;31m     \u001b[0;32mreturn\u001b[0m \u001b[0m_read\u001b[0m\u001b[0;34m(\u001b[0m\u001b[0mfilepath_or_buffer\u001b[0m\u001b[0;34m,\u001b[0m \u001b[0mkwds\u001b[0m\u001b[0;34m)\u001b[0m\u001b[0;34m\u001b[0m\u001b[0;34m\u001b[0m\u001b[0m\n\u001b[0m\u001b[1;32m    587\u001b[0m \u001b[0;34m\u001b[0m\u001b[0m\n\u001b[1;32m    588\u001b[0m \u001b[0;34m\u001b[0m\u001b[0m\n",
            "\u001b[0;32m/usr/local/lib/python3.7/dist-packages/pandas/io/parsers/readers.py\u001b[0m in \u001b[0;36m_read\u001b[0;34m(filepath_or_buffer, kwds)\u001b[0m\n\u001b[1;32m    480\u001b[0m \u001b[0;34m\u001b[0m\u001b[0m\n\u001b[1;32m    481\u001b[0m     \u001b[0;31m# Create the parser.\u001b[0m\u001b[0;34m\u001b[0m\u001b[0;34m\u001b[0m\u001b[0;34m\u001b[0m\u001b[0m\n\u001b[0;32m--> 482\u001b[0;31m     \u001b[0mparser\u001b[0m \u001b[0;34m=\u001b[0m \u001b[0mTextFileReader\u001b[0m\u001b[0;34m(\u001b[0m\u001b[0mfilepath_or_buffer\u001b[0m\u001b[0;34m,\u001b[0m \u001b[0;34m**\u001b[0m\u001b[0mkwds\u001b[0m\u001b[0;34m)\u001b[0m\u001b[0;34m\u001b[0m\u001b[0;34m\u001b[0m\u001b[0m\n\u001b[0m\u001b[1;32m    483\u001b[0m \u001b[0;34m\u001b[0m\u001b[0m\n\u001b[1;32m    484\u001b[0m     \u001b[0;32mif\u001b[0m \u001b[0mchunksize\u001b[0m \u001b[0;32mor\u001b[0m \u001b[0miterator\u001b[0m\u001b[0;34m:\u001b[0m\u001b[0;34m\u001b[0m\u001b[0;34m\u001b[0m\u001b[0m\n",
            "\u001b[0;32m/usr/local/lib/python3.7/dist-packages/pandas/io/parsers/readers.py\u001b[0m in \u001b[0;36m__init__\u001b[0;34m(self, f, engine, **kwds)\u001b[0m\n\u001b[1;32m    809\u001b[0m             \u001b[0mself\u001b[0m\u001b[0;34m.\u001b[0m\u001b[0moptions\u001b[0m\u001b[0;34m[\u001b[0m\u001b[0;34m\"has_index_names\"\u001b[0m\u001b[0;34m]\u001b[0m \u001b[0;34m=\u001b[0m \u001b[0mkwds\u001b[0m\u001b[0;34m[\u001b[0m\u001b[0;34m\"has_index_names\"\u001b[0m\u001b[0;34m]\u001b[0m\u001b[0;34m\u001b[0m\u001b[0;34m\u001b[0m\u001b[0m\n\u001b[1;32m    810\u001b[0m \u001b[0;34m\u001b[0m\u001b[0m\n\u001b[0;32m--> 811\u001b[0;31m         \u001b[0mself\u001b[0m\u001b[0;34m.\u001b[0m\u001b[0m_engine\u001b[0m \u001b[0;34m=\u001b[0m \u001b[0mself\u001b[0m\u001b[0;34m.\u001b[0m\u001b[0m_make_engine\u001b[0m\u001b[0;34m(\u001b[0m\u001b[0mself\u001b[0m\u001b[0;34m.\u001b[0m\u001b[0mengine\u001b[0m\u001b[0;34m)\u001b[0m\u001b[0;34m\u001b[0m\u001b[0;34m\u001b[0m\u001b[0m\n\u001b[0m\u001b[1;32m    812\u001b[0m \u001b[0;34m\u001b[0m\u001b[0m\n\u001b[1;32m    813\u001b[0m     \u001b[0;32mdef\u001b[0m \u001b[0mclose\u001b[0m\u001b[0;34m(\u001b[0m\u001b[0mself\u001b[0m\u001b[0;34m)\u001b[0m\u001b[0;34m:\u001b[0m\u001b[0;34m\u001b[0m\u001b[0;34m\u001b[0m\u001b[0m\n",
            "\u001b[0;32m/usr/local/lib/python3.7/dist-packages/pandas/io/parsers/readers.py\u001b[0m in \u001b[0;36m_make_engine\u001b[0;34m(self, engine)\u001b[0m\n\u001b[1;32m   1038\u001b[0m             )\n\u001b[1;32m   1039\u001b[0m         \u001b[0;31m# error: Too many arguments for \"ParserBase\"\u001b[0m\u001b[0;34m\u001b[0m\u001b[0;34m\u001b[0m\u001b[0;34m\u001b[0m\u001b[0m\n\u001b[0;32m-> 1040\u001b[0;31m         \u001b[0;32mreturn\u001b[0m \u001b[0mmapping\u001b[0m\u001b[0;34m[\u001b[0m\u001b[0mengine\u001b[0m\u001b[0;34m]\u001b[0m\u001b[0;34m(\u001b[0m\u001b[0mself\u001b[0m\u001b[0;34m.\u001b[0m\u001b[0mf\u001b[0m\u001b[0;34m,\u001b[0m \u001b[0;34m**\u001b[0m\u001b[0mself\u001b[0m\u001b[0;34m.\u001b[0m\u001b[0moptions\u001b[0m\u001b[0;34m)\u001b[0m  \u001b[0;31m# type: ignore[call-arg]\u001b[0m\u001b[0;34m\u001b[0m\u001b[0;34m\u001b[0m\u001b[0m\n\u001b[0m\u001b[1;32m   1041\u001b[0m \u001b[0;34m\u001b[0m\u001b[0m\n\u001b[1;32m   1042\u001b[0m     \u001b[0;32mdef\u001b[0m \u001b[0m_failover_to_python\u001b[0m\u001b[0;34m(\u001b[0m\u001b[0mself\u001b[0m\u001b[0;34m)\u001b[0m\u001b[0;34m:\u001b[0m\u001b[0;34m\u001b[0m\u001b[0;34m\u001b[0m\u001b[0m\n",
            "\u001b[0;32m/usr/local/lib/python3.7/dist-packages/pandas/io/parsers/c_parser_wrapper.py\u001b[0m in \u001b[0;36m__init__\u001b[0;34m(self, src, **kwds)\u001b[0m\n\u001b[1;32m     49\u001b[0m \u001b[0;34m\u001b[0m\u001b[0m\n\u001b[1;32m     50\u001b[0m         \u001b[0;31m# open handles\u001b[0m\u001b[0;34m\u001b[0m\u001b[0;34m\u001b[0m\u001b[0;34m\u001b[0m\u001b[0m\n\u001b[0;32m---> 51\u001b[0;31m         \u001b[0mself\u001b[0m\u001b[0;34m.\u001b[0m\u001b[0m_open_handles\u001b[0m\u001b[0;34m(\u001b[0m\u001b[0msrc\u001b[0m\u001b[0;34m,\u001b[0m \u001b[0mkwds\u001b[0m\u001b[0;34m)\u001b[0m\u001b[0;34m\u001b[0m\u001b[0;34m\u001b[0m\u001b[0m\n\u001b[0m\u001b[1;32m     52\u001b[0m         \u001b[0;32massert\u001b[0m \u001b[0mself\u001b[0m\u001b[0;34m.\u001b[0m\u001b[0mhandles\u001b[0m \u001b[0;32mis\u001b[0m \u001b[0;32mnot\u001b[0m \u001b[0;32mNone\u001b[0m\u001b[0;34m\u001b[0m\u001b[0;34m\u001b[0m\u001b[0m\n\u001b[1;32m     53\u001b[0m \u001b[0;34m\u001b[0m\u001b[0m\n",
            "\u001b[0;32m/usr/local/lib/python3.7/dist-packages/pandas/io/parsers/base_parser.py\u001b[0m in \u001b[0;36m_open_handles\u001b[0;34m(self, src, kwds)\u001b[0m\n\u001b[1;32m    227\u001b[0m             \u001b[0mmemory_map\u001b[0m\u001b[0;34m=\u001b[0m\u001b[0mkwds\u001b[0m\u001b[0;34m.\u001b[0m\u001b[0mget\u001b[0m\u001b[0;34m(\u001b[0m\u001b[0;34m\"memory_map\"\u001b[0m\u001b[0;34m,\u001b[0m \u001b[0;32mFalse\u001b[0m\u001b[0;34m)\u001b[0m\u001b[0;34m,\u001b[0m\u001b[0;34m\u001b[0m\u001b[0;34m\u001b[0m\u001b[0m\n\u001b[1;32m    228\u001b[0m             \u001b[0mstorage_options\u001b[0m\u001b[0;34m=\u001b[0m\u001b[0mkwds\u001b[0m\u001b[0;34m.\u001b[0m\u001b[0mget\u001b[0m\u001b[0;34m(\u001b[0m\u001b[0;34m\"storage_options\"\u001b[0m\u001b[0;34m,\u001b[0m \u001b[0;32mNone\u001b[0m\u001b[0;34m)\u001b[0m\u001b[0;34m,\u001b[0m\u001b[0;34m\u001b[0m\u001b[0;34m\u001b[0m\u001b[0m\n\u001b[0;32m--> 229\u001b[0;31m             \u001b[0merrors\u001b[0m\u001b[0;34m=\u001b[0m\u001b[0mkwds\u001b[0m\u001b[0;34m.\u001b[0m\u001b[0mget\u001b[0m\u001b[0;34m(\u001b[0m\u001b[0;34m\"encoding_errors\"\u001b[0m\u001b[0;34m,\u001b[0m \u001b[0;34m\"strict\"\u001b[0m\u001b[0;34m)\u001b[0m\u001b[0;34m,\u001b[0m\u001b[0;34m\u001b[0m\u001b[0;34m\u001b[0m\u001b[0m\n\u001b[0m\u001b[1;32m    230\u001b[0m         )\n\u001b[1;32m    231\u001b[0m \u001b[0;34m\u001b[0m\u001b[0m\n",
            "\u001b[0;32m/usr/local/lib/python3.7/dist-packages/pandas/io/common.py\u001b[0m in \u001b[0;36mget_handle\u001b[0;34m(path_or_buf, mode, encoding, compression, memory_map, is_text, errors, storage_options)\u001b[0m\n\u001b[1;32m    705\u001b[0m                 \u001b[0mencoding\u001b[0m\u001b[0;34m=\u001b[0m\u001b[0mioargs\u001b[0m\u001b[0;34m.\u001b[0m\u001b[0mencoding\u001b[0m\u001b[0;34m,\u001b[0m\u001b[0;34m\u001b[0m\u001b[0;34m\u001b[0m\u001b[0m\n\u001b[1;32m    706\u001b[0m                 \u001b[0merrors\u001b[0m\u001b[0;34m=\u001b[0m\u001b[0merrors\u001b[0m\u001b[0;34m,\u001b[0m\u001b[0;34m\u001b[0m\u001b[0;34m\u001b[0m\u001b[0m\n\u001b[0;32m--> 707\u001b[0;31m                 \u001b[0mnewline\u001b[0m\u001b[0;34m=\u001b[0m\u001b[0;34m\"\"\u001b[0m\u001b[0;34m,\u001b[0m\u001b[0;34m\u001b[0m\u001b[0;34m\u001b[0m\u001b[0m\n\u001b[0m\u001b[1;32m    708\u001b[0m             )\n\u001b[1;32m    709\u001b[0m         \u001b[0;32melse\u001b[0m\u001b[0;34m:\u001b[0m\u001b[0;34m\u001b[0m\u001b[0;34m\u001b[0m\u001b[0m\n",
            "\u001b[0;31mFileNotFoundError\u001b[0m: [Errno 2] No such file or directory: '/content/DataDefaultOfCreditCardClients.txt'"
          ]
        }
      ]
    },
    {
      "cell_type": "markdown",
      "source": [
        "Verificar si en la base de datos existen valores nulos o hay falta de valores"
      ],
      "metadata": {
        "id": "jGApIjsjMc-a"
      }
    },
    {
      "cell_type": "code",
      "source": [
        "TCC.isnull().values.any()  #Si existen valores nulos"
      ],
      "metadata": {
        "id": "c7NhAUIwMtNr"
      },
      "execution_count": null,
      "outputs": []
    },
    {
      "cell_type": "code",
      "source": [
        "TCC.isnull().any()"
      ],
      "metadata": {
        "id": "6pqjyGQgM1jY"
      },
      "execution_count": null,
      "outputs": []
    },
    {
      "cell_type": "markdown",
      "source": [
        "La función de análisis isnull() indica si las columnas  muestran ausencia de valores (datos) y/o NaN (Not a Number), por ello para asegurar tener integridad de dartos hay que verificar la existencia correcta de datos."
      ],
      "metadata": {
        "id": "_uR9JbBTNsuM"
      }
    },
    {
      "cell_type": "code",
      "source": [
        "#Mostrar los datos faltantes:\n",
        "\n",
        "TCC[TCC.isnull()]"
      ],
      "metadata": {
        "id": "AK_vQ51SOIFi"
      },
      "execution_count": null,
      "outputs": []
    },
    {
      "cell_type": "markdown",
      "source": [
        "# **Solución no. 1**\n",
        "\n",
        "Se van a descartar las celdas con valores faltantes"
      ],
      "metadata": {
        "id": "5h0cJChDOOPg"
      }
    },
    {
      "cell_type": "code",
      "source": [
        "nTCC = TCC.copy()         #Se crea copia de la base de datos original\n",
        "\n",
        "nTCC.dropna(inplace = True)      #Se eliminan los renglones con valores NaN de la base de datos\n",
        "nTCC.isna().values.any()         #Al ejecutar nuebvamente la función .isna(), muestra que ya no existen valores NaN"
      ],
      "metadata": {
        "id": "FLGIMQkYOjRF"
      },
      "execution_count": null,
      "outputs": []
    },
    {
      "cell_type": "code",
      "source": [
        "nTCC"
      ],
      "metadata": {
        "id": "_c0dQXQUO9I4"
      },
      "execution_count": null,
      "outputs": []
    },
    {
      "cell_type": "markdown",
      "source": [
        "De acuerdo a las dos tablas se observamn que se eliminan 42 registros (renglones) con el método anterior. La base de satos inicial tenía  30K renglones y luwego de la limpeiza se observan de 29.958 renglones, y se mantienen las mismas columnas con valores correctos o que serán útiles.\n",
        "\n",
        "Con esta método (función) si falta algún dato en alguna celda, entonces la fila correspondiente se elimina, sin alterar las columnas."
      ],
      "metadata": {
        "id": "TaC2qSZRPIFd"
      }
    },
    {
      "cell_type": "markdown",
      "source": [
        "**Filtrar**\n",
        "\n",
        "Se van a filtrar todas las colunmnas que solo tengan información"
      ],
      "metadata": {
        "id": "gjxcPPtDRdcH"
      }
    },
    {
      "cell_type": "code",
      "source": [
        "nTCC = TCC.copy()\n",
        "\n",
        "nTCC.dropna(axis = 1, inplace = True) # axis 1 is columns / axis 0 is rows. \n",
        "nTCC"
      ],
      "metadata": {
        "id": "tHTmzwjQRlhx"
      },
      "execution_count": null,
      "outputs": []
    },
    {
      "cell_type": "markdown",
      "source": [
        "Con esta función se pueden borrar las columnas que no tuvieran datos útiles. Se observa que solo se mantiene la columna 'X1', que es la que no tiene valores nulos, con este filtrado en este ejemplo/caso se pieredn casi todas las columnas, por lo que no es una buena función."
      ],
      "metadata": {
        "id": "DwrwVFzjRtb-"
      }
    },
    {
      "cell_type": "markdown",
      "source": [
        "**Mantener renglones**\n",
        "\n",
        "\n",
        "Ahora se hace la prueba de mantener los renglones que solamente contengan 20 o más datos validos (No NaN)"
      ],
      "metadata": {
        "id": "OAAbKZUdURRu"
      }
    },
    {
      "cell_type": "code",
      "source": [
        "nTCC = TCC.copy()\n",
        "\n",
        "nTCC.dropna(thresh=20, inplace = True)\n",
        "nTCC"
      ],
      "metadata": {
        "id": "45wlHx1zUsGq"
      },
      "execution_count": null,
      "outputs": []
    },
    {
      "cell_type": "markdown",
      "source": [
        "Se observa que se eliminaron 12 renglones que no tuvieron mínimo 20 valores validos en las columnas."
      ],
      "metadata": {
        "id": "ZdbA-LhbU-gA"
      }
    },
    {
      "cell_type": "markdown",
      "source": [
        "Ahora se hace la revisión de un filtrado en  columnas:\n",
        "\n",
        "Se trata de mantener renglones que solamente contengan 29 990 o más datos validos (No NaN)"
      ],
      "metadata": {
        "id": "X6pIndQOVQEH"
      }
    },
    {
      "cell_type": "code",
      "source": [
        "nTCC = TCC.copy()\n",
        "nTCC.dropna(thresh = 29990, axis = 1, inplace = True) \n",
        "nTCC"
      ],
      "metadata": {
        "id": "QPZwXBUHVcwx"
      },
      "execution_count": null,
      "outputs": []
    },
    {
      "cell_type": "markdown",
      "source": [
        "Se observa que se eliminaron nueve columnas que no cumplieron con la regla de tener  29 990 valores validos o más, quedando solo con 15 columnas."
      ],
      "metadata": {
        "id": "fwEHZam2VkLa"
      }
    },
    {
      "cell_type": "markdown",
      "source": [
        "# **Solución 2**\n",
        "\n",
        "Imputación de media"
      ],
      "metadata": {
        "id": "2glgmtXgV0K1"
      }
    },
    {
      "cell_type": "code",
      "source": [
        "nTCC = TCCl.copy()\n",
        "\n",
        "#Ciclo para obtener la media en cada columna y sustituir los valores NaN por la media.\n",
        "for label in  nTCC.columns:          #En este ciclo se realiza sobre todas las columnas de la base de datos, desde X1 a Y   \n",
        "  nTCC[label].fillna(nTCC[label].mean(), inplace = True)    #En cada iteración se obtiene la media de la columna iterada por medio del \n",
        "                                                                          #método .mean() y este es imputado(asignado) a los valores NaN por medio de la\n",
        "                                                                          #función .fillna()\n",
        "\n",
        "\n",
        "\n",
        "\n",
        "print(nTCC.isnull().any())         #Confirmación de que no hay NaNs\n",
        "print(nTCC.mean())                 #Mostrar las medias de cada columna\n",
        "nTCC"
      ],
      "metadata": {
        "id": "t0VrYabfWTBZ"
      },
      "execution_count": null,
      "outputs": []
    },
    {
      "cell_type": "markdown",
      "source": [
        "Imputación de mediana"
      ],
      "metadata": {
        "id": "Z7ldD0wuW5Bs"
      }
    },
    {
      "cell_type": "code",
      "source": [
        "nTCC = TCC.copy()\n",
        "\n",
        "#Ciclo para obtener la mediana en cada columna y sustituir los valores NaN por la mediana.\n",
        "for label in  nTCC.columns:          #En este ciclo se realiza sobre todas las columnas de la base de datos, desde X1 a Y   \n",
        "  nTCC[label].fillna(nTCC[label].median(), inplace = True)    #En cada iteración se obtiene la mediana de la columna iterada por medio del \n",
        "                                                                          #método .mean() y este es imputado(asignado) a los valores NaN por medio de la\n",
        "                                                                          #función .fillna()\n",
        "\n",
        "\n",
        "\n",
        "\n",
        "print(nTCC.isnull().any())         #Confirmación de que no hay NaNs\n",
        "print(nTCC.median())                 #Mostrar las medias de cada columna\n",
        "nTCC"
      ],
      "metadata": {
        "id": "RWsUSS29W7Jg"
      },
      "execution_count": null,
      "outputs": []
    },
    {
      "cell_type": "markdown",
      "source": [
        "Luego de hacer la inputación de la mediana se reemplazn los NaNs, y ya se tienen datos en todas las celdas, sin emabrgo se observa que en las columnas X6 a X11 hay valores iguales a 0, que en este caso no significan nada en la base de datos o puede que no esten  la escala de datos mencionada en la descripción original. Por eso se recomienda sustituir el Cero (0) por -1 para indicar que estos clientes no tienen adeudos y se puden observa facilmente."
      ],
      "metadata": {
        "id": "AxXqY-CoXRKz"
      }
    },
    {
      "cell_type": "code",
      "source": [
        "nTCC.X6= nTCC.X6.replace([0,-1])\n",
        "nTCC.X7= nTCC.X7.replace([0,-1])\n",
        "nTCC.X8= nTCC.X8.replace([0,-1])\n",
        "nTCC.X9= nTCC.X9.replace([0,-1])\n",
        "nTCC.X10= nTCC.X10.replace([0,-1])\n",
        "nTCC.X11= nTCC.X11.replace([0,-1])\n",
        "nTCC"
      ],
      "metadata": {
        "id": "5ZWlmMszYDkp"
      },
      "execution_count": null,
      "outputs": []
    },
    {
      "cell_type": "markdown",
      "source": [
        "Dar formato a la base de datos:"
      ],
      "metadata": {
        "id": "Y5Ox-nI0YaUo"
      }
    },
    {
      "cell_type": "code",
      "source": [
        "nTCC = TCC.copy()\n",
        "\n",
        "nTCC.rename(columns = {'X1' :'Credit_Amount', \n",
        "                              'X2' : 'Gender', \n",
        "                              'X3': 'Education', \n",
        "                              'X4':'Marital_Status',\n",
        "                              'X5': 'Age',\n",
        "                              'Y':'Credible?'\n",
        "                              }) \n"
      ],
      "metadata": {
        "id": "lZDmcelKYhXO"
      },
      "execution_count": null,
      "outputs": []
    },
    {
      "cell_type": "markdown",
      "source": [
        "En la siguiente sección se generará una nueva base de datos, sin celdas tipo NaNs. Se renombrarán los encabezados de las columnas para observar mejor los datos."
      ],
      "metadata": {
        "id": "hMZA2ggRY0JA"
      }
    },
    {
      "cell_type": "markdown",
      "source": [
        "Inputar la Moda"
      ],
      "metadata": {
        "id": "-C0hVDX4ZsZK"
      }
    },
    {
      "cell_type": "code",
      "source": [
        "#Creación de la base de datos:\n",
        "nTCC = TCC.copy()\n",
        "\n",
        "#Ciclo para remplazar los NaNs, para ciertas columnas se imputa la Moda, para mantener valores dentro de la escala,\n",
        "#en los demas se imputa la media, conforme la tabla anterior.\n",
        "\n",
        "for label in  nTCC.columns:    \n",
        "  if label == 'X2' or label == 'X3' or label == 'X4' or label == 'X6' or label == 'X7' or label == 'X8' or label == 'X9' or label == 'X10' or label == 'X12' or label == 'Y':\n",
        "      #Imputación de moda: \n",
        "      nTCC[label].fillna(nTCC[label].mode()[0], inplace = True)   \n",
        "  else:\n",
        "      #Imputación de media:\n",
        "      nTCC[label].fillna(nTCC[label].mean(), inplace = True)"
      ],
      "metadata": {
        "id": "SlXi003MZKsM"
      },
      "execution_count": null,
      "outputs": []
    },
    {
      "cell_type": "markdown",
      "source": [
        "Renombrar los encabezados de las columnas"
      ],
      "metadata": {
        "id": "VraD9cvrZb95"
      }
    },
    {
      "cell_type": "code",
      "source": [
        "#Renombrar los encabezados de las columnas:\n",
        "nTCC.rename(columns = {'X1' :'Credit_Amount',      \n",
        "                              'X2' : 'Gender', \n",
        "                              'X3': 'Education', \n",
        "                              'X4':'Marital_Status',\n",
        "                              'X5': 'Age',\n",
        "                              'X6': 'Sep',\n",
        "                              'X7': 'Ago',\n",
        "                              'X8': 'Jul',\n",
        "                              'X9': 'Jun',\n",
        "                              'X10': 'May',\n",
        "                              'X11': 'Apr',\n",
        "                              'X12': 'Bs-Sep',\n",
        "                              'X13': 'Bs-Ago',\n",
        "                              'X14': 'Bs-Jul',\n",
        "                              'X15': 'Bs-Jun',\n",
        "                              'X16': 'Bs-May',\n",
        "                              'X17': 'Bs-Apr',\n",
        "                              'X18': 'Pp-Sep',\n",
        "                              'X19': 'Pp-Ago',\n",
        "                              'X20': 'Pp-Jul',\n",
        "                              'X21': 'Pp-Jun',\n",
        "                              'X22': 'Pp-May',\n",
        "                              'X23': 'Pp-Apr',\n",
        "                              'Y':'Credible?'\n",
        "                              }, inplace = True) \n",
        "\n",
        "nTCC.to_csv('data.csv')            #Se guarda esta nueva abse datos como data.csv en la raiz de Colab "
      ],
      "metadata": {
        "id": "NOC_2ZRQZdxh"
      },
      "execution_count": null,
      "outputs": []
    },
    {
      "cell_type": "code",
      "source": [
        "print(nTCC.isnull().any())         #Confirmación que la nueva base de datos no tiene NaNs\n",
        "nTCC"
      ],
      "metadata": {
        "id": "eDTub8nwaDnS"
      },
      "execution_count": null,
      "outputs": []
    },
    {
      "cell_type": "markdown",
      "source": [
        "Cierre del programa"
      ],
      "metadata": {
        "id": "6GoWiNaTalAE"
      }
    }
  ]
}