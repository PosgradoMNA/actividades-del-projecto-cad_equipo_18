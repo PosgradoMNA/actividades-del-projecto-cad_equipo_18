{
  "nbformat": 4,
  "nbformat_minor": 0,
  "metadata": {
    "colab": {
      "provenance": [],
      "authorship_tag": "ABX9TyOIN6TEFAWMsPFDE64XjRDN",
      "include_colab_link": true
    },
    "kernelspec": {
      "name": "python3",
      "display_name": "Python 3"
    },
    "language_info": {
      "name": "python"
    }
  },
  "cells": [
    {
      "cell_type": "markdown",
      "metadata": {
        "id": "view-in-github",
        "colab_type": "text"
      },
      "source": [
        "<a href=\"https://colab.research.google.com/github/PosgradoMNA/actividades-del-projecto-cad_equipo_18/blob/main/Equipo_18_Entrega_1_Aguas_Subterraneas.ipynb\" target=\"_parent\"><img src=\"https://colab.research.google.com/assets/colab-badge.svg\" alt=\"Open In Colab\"/></a>"
      ]
    },
    {
      "cell_type": "markdown",
      "source": [
        "![Logo Tec 21.jpg](data:image/jpeg;base64,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)\n",
        "\n",
        "# **TC4029 Ciencia y analítica de datos**\n",
        "\n",
        "Reto: Entrega 1\n",
        "\n",
        "Limpieza, análisis, visualización y agrupamiento.\n",
        "\n",
        "# **Aguas subterraneas**\n",
        "\n",
        "José Eduardo Esperón Carreón A01372413\n",
        "\n",
        "Moisés Rangel Silva A00143704\n",
        "\n",
        "Profesora: Dra. María de la Paz Rico Fernández\n",
        "\n",
        "Noviembre 11 de 2022"
      ],
      "metadata": {
        "id": "QJFrgKtAZSHJ"
      }
    },
    {
      "cell_type": "markdown",
      "source": [
        "**Indice de la Entrega 1**\n",
        "\n",
        "*   Limpieza de base de datos.\n",
        "\n",
        "> Explorar  cada datos (auxiliate de describe(), mean(), plot, boxplot de pandas):\n",
        "*   Identificando tendencias centrales promedio, media y mediana de los datos.\n",
        "*   Identificar medidas de dispersión, máximo, mínimo\n",
        "*   Identificar medidas de posición no centrales , los cuartiles , outliers\n",
        "*   Identificar correlaciones.\n",
        "*   Preparar los datos\n",
        "\n",
        "\n",
        "*   Realizar análisis para encontrar si existe una relación entre la calidad del agua y su ubicación geográfica a través de K- means.\n",
        "\n",
        "*   Mostrar resultados de agrupamiento de latitudes y longitudes con K means en el mapa de México.\n",
        "\n"
      ],
      "metadata": {
        "id": "_T5-j8-wa_m4"
      }
    },
    {
      "cell_type": "code",
      "source": [
        "import numpy as np\n",
        "import pandas as pd\n",
        "import matplotlib.pyplot as plt \n",
        "import graphviz\n",
        "import math\n",
        "import pydotplus\n",
        "import missingno as msno\n",
        "import seaborn as sns  \n",
        "import seaborn as load_dataset\n",
        "import os\n",
        "\n",
        "from sklearn.pipeline import Pipeline\n",
        "from sklearn.model_selection import KFold\n",
        "from sklearn.compose import ColumnTransformer\n",
        "from sklearn.preprocessing import power_transform\n",
        "from sklearn.preprocessing import FunctionTransformer\n",
        "from sklearn.impute import SimpleImputer\n",
        "from sklearn.preprocessing import MinMaxScaler  \n",
        "from sklearn.linear_model import LinearRegression\n",
        "from sklearn.pipeline import Pipeline\n",
        "from sklearn.preprocessing import MinMaxScaler, OneHotEncoder, OneHotEncoder, FunctionTransformer\n",
        "\n",
        "import warnings\n",
        "\n",
        "from sklearn import datasets\n",
        "from sklearn.decomposition import PCA\n",
        "from sklearn.preprocessing import StandardScaler\n",
        "from IPython.display import Image\n",
        "from scipy.stats import boxcox\n",
        "from sklearn import tree\n",
        "from sklearn.dummy import DummyRegressor\n",
        "from sklearn.ensemble import RandomForestClassifier, RandomForestRegressor\n",
        "from sklearn.impute import SimpleImputer\n",
        "from sklearn.inspection import permutation_importance\n",
        "from sklearn.linear_model import LogisticRegression, LinearRegression\n",
        "from sklearn.metrics import confusion_matrix, make_scorer\n",
        "from sklearn.model_selection import GridSearchCV, RepeatedStratifiedKFold, KFold, train_test_split, cross_validate, learning_curve, RepeatedKFold\n",
        "from sklearn.neural_network import MLPRegressor\n",
        "from sklearn.tree import DecisionTreeClassifier"
      ],
      "metadata": {
        "id": "gLwZPRW2ilxx"
      },
      "execution_count": 14,
      "outputs": []
    },
    {
      "cell_type": "code",
      "source": [
        "#Creación del data frame de las aguas subterraneas\n",
        "\n",
        "Data = \"https://github.com/PosgradoMNA/actividades-del-projecto-cad_equipo_18/blob/main/Dataset/Datos_de_calidad_del_agua_de_sitios_de_monitoreo_de_aguas_subterraneas_2020.csv\"\n",
        "TCC = pd.read_csv(Data, index_col=0)  #, header = 0, \n",
        "#Carga los datos y sustituye los nombres de las columnas del alemán al inglés de acuerdo a como se indica en la página de la UCI.\n",
        "TCC.rename(columns = {\n",
        "    'X1':'CLAVE',\n",
        "    'X2':'SITIO',\n",
        "    'X3':'ORGANISMO_DE_CUENCA',\n",
        "    'X4':'ESTADO',\n",
        "    'X5':'MUNICIPIO',\n",
        "    'X6':'ACUIFERO',\n",
        "    'X7':'SUBTIPO',\n",
        "    'X8':'LONGITUD',\n",
        "    'X9':'LATITUD',\n",
        "    'X10':'PERIODO',\n",
        "    'X11':'ALC_mg/L',\n",
        "    'X12':'CALIDAD_ALC',\n",
        "    'X13':'CONDUCT_mS/cm',\n",
        "    'X14':'CALIDAD_CONDUC',\n",
        "    'X15':'SDT_mg/L',\n",
        "    'X16':'SDT_M_mg/L',\n",
        "    'X17':'CALIDAD_SDT_ra',\n",
        "    'X18':'CALIDAD_SDT_salin',\n",
        "    'X19':'FLUORUROS_mg/L',\n",
        "    'X20':'CALIDAD_FLUO',\n",
        "    'X21':'DUR_mg/L',\n",
        "    'X22':'CALIDAD_DUR',\n",
        "    'X23':'COLI_FEC_NMP/100_mL',\n",
        "    'X24':'CALIDAD_COLI_FEC',\n",
        "    'X25':'N_NO3_mg/L',\n",
        "    'X26':'CALIDAD_N_NO3',\n",
        "    'X27':'AS_TOT_mg/L',\n",
        "    'X28':'CALIDAD_AS',\n",
        "    'X29':'CD_TOT_mg/L',\n",
        "    'X30':'CALIDAD_CD',\n",
        "    'X31':'CR_TOT_mg/L',\n",
        "    'X32':'CALIDAD_CR',\n",
        "    'X33':'HG_TOT_mg/L',\n",
        "    'X34':'CALIDAD_HG',\n",
        "    'X35':'PB_TOT_mg/L',\n",
        "    'X36':'CALIDAD_PB',\n",
        "    'X37':'MN_TOT_mg/L',\n",
        "    'X38':'CALIDAD_MN',\n",
        "    'X39':'FE_TOT_mg/L',\n",
        "    'X40':'CALIDAD_FE',\n",
        "    'X41':'SEMAFORO',\n",
        "    'X42':'CONTAMINANTES',\n",
        "    'X43':'CUMPLE_CON_ALC',\n",
        "    'X44':'CUMPLE_CON_COND',\n",
        "    'X45':'CUMPLE_CON_SDT_ra',\n",
        "    'X46':'CUMPLE_CON_SDT_salin',\n",
        "    'X47':'CUMPLE_CON_FLUO',\n",
        "    'X48':'CUMPLE_CON_DUR',\n",
        "    'X49':'CUMPLE_CON_CF',\n",
        "    'X50':'CUMPLE_CON_NO3',\n",
        "    'X51':'CUMPLE_CON_AS',\n",
        "    'X52':'CUMPLE_CON_CD',\n",
        "    'X53':'CUMPLE_CON_CR',\n",
        "    'X54':'CUMPLE_CON_HG',\n",
        "    'X55':'CUMPLE_CON_PB',\n",
        "    'X56':'CUMPLE_CON_MN',\n",
        "    'X57':'CUMPLE_CON_FE',\n",
        "}, inplace = True)\n",
        "#El inplace true, nos permite hacer la mutación sobre el mismo dataframe, sin necesidad de crear otro nuevo\n",
        "TCC.head()\n"
      ],
      "metadata": {
        "colab": {
          "base_uri": "https://localhost:8080/",
          "height": 407
        },
        "id": "TSV3hS14cOng",
        "outputId": "078a680a-4529-4365-d4f2-a3f1e9bdd611"
      },
      "execution_count": 15,
      "outputs": [
        {
          "output_type": "error",
          "ename": "HTTPError",
          "evalue": "ignored",
          "traceback": [
            "\u001b[0;31m---------------------------------------------------------------------------\u001b[0m",
            "\u001b[0;31mHTTPError\u001b[0m                                 Traceback (most recent call last)",
            "\u001b[0;32m<ipython-input-15-967ad3f379db>\u001b[0m in \u001b[0;36m<module>\u001b[0;34m\u001b[0m\n\u001b[1;32m      2\u001b[0m \u001b[0;34m\u001b[0m\u001b[0m\n\u001b[1;32m      3\u001b[0m \u001b[0mData\u001b[0m \u001b[0;34m=\u001b[0m \u001b[0;34m\"https://github.com/PosgradoMNA/actividades-del-projecto-cad_equipo_18/blob/main/Dataset/Datos_de_calidad_del_agua_de_sitios_de_monitoreo_de_aguas_subterraneas_2020.csv\"\u001b[0m\u001b[0;34m\u001b[0m\u001b[0;34m\u001b[0m\u001b[0m\n\u001b[0;32m----> 4\u001b[0;31m \u001b[0mTCC\u001b[0m \u001b[0;34m=\u001b[0m \u001b[0mpd\u001b[0m\u001b[0;34m.\u001b[0m\u001b[0mread_csv\u001b[0m\u001b[0;34m(\u001b[0m\u001b[0mData\u001b[0m\u001b[0;34m,\u001b[0m \u001b[0mindex_col\u001b[0m\u001b[0;34m=\u001b[0m\u001b[0;36m0\u001b[0m\u001b[0;34m)\u001b[0m  \u001b[0;31m#, header = 0,\u001b[0m\u001b[0;34m\u001b[0m\u001b[0;34m\u001b[0m\u001b[0m\n\u001b[0m\u001b[1;32m      5\u001b[0m \u001b[0;31m#Carga los datos y sustituye los nombres de las columnas del alemán al inglés de acuerdo a como se indica en la página de la UCI.\u001b[0m\u001b[0;34m\u001b[0m\u001b[0;34m\u001b[0m\u001b[0;34m\u001b[0m\u001b[0m\n\u001b[1;32m      6\u001b[0m TCC.rename(columns = {\n",
            "\u001b[0;32m/usr/local/lib/python3.7/dist-packages/pandas/util/_decorators.py\u001b[0m in \u001b[0;36mwrapper\u001b[0;34m(*args, **kwargs)\u001b[0m\n\u001b[1;32m    309\u001b[0m                     \u001b[0mstacklevel\u001b[0m\u001b[0;34m=\u001b[0m\u001b[0mstacklevel\u001b[0m\u001b[0;34m,\u001b[0m\u001b[0;34m\u001b[0m\u001b[0;34m\u001b[0m\u001b[0m\n\u001b[1;32m    310\u001b[0m                 )\n\u001b[0;32m--> 311\u001b[0;31m             \u001b[0;32mreturn\u001b[0m \u001b[0mfunc\u001b[0m\u001b[0;34m(\u001b[0m\u001b[0;34m*\u001b[0m\u001b[0margs\u001b[0m\u001b[0;34m,\u001b[0m \u001b[0;34m**\u001b[0m\u001b[0mkwargs\u001b[0m\u001b[0;34m)\u001b[0m\u001b[0;34m\u001b[0m\u001b[0;34m\u001b[0m\u001b[0m\n\u001b[0m\u001b[1;32m    312\u001b[0m \u001b[0;34m\u001b[0m\u001b[0m\n\u001b[1;32m    313\u001b[0m         \u001b[0;32mreturn\u001b[0m \u001b[0mwrapper\u001b[0m\u001b[0;34m\u001b[0m\u001b[0;34m\u001b[0m\u001b[0m\n",
            "\u001b[0;32m/usr/local/lib/python3.7/dist-packages/pandas/io/parsers/readers.py\u001b[0m in \u001b[0;36mread_csv\u001b[0;34m(filepath_or_buffer, sep, delimiter, header, names, index_col, usecols, squeeze, prefix, mangle_dupe_cols, dtype, engine, converters, true_values, false_values, skipinitialspace, skiprows, skipfooter, nrows, na_values, keep_default_na, na_filter, verbose, skip_blank_lines, parse_dates, infer_datetime_format, keep_date_col, date_parser, dayfirst, cache_dates, iterator, chunksize, compression, thousands, decimal, lineterminator, quotechar, quoting, doublequote, escapechar, comment, encoding, encoding_errors, dialect, error_bad_lines, warn_bad_lines, on_bad_lines, delim_whitespace, low_memory, memory_map, float_precision, storage_options)\u001b[0m\n\u001b[1;32m    584\u001b[0m     \u001b[0mkwds\u001b[0m\u001b[0;34m.\u001b[0m\u001b[0mupdate\u001b[0m\u001b[0;34m(\u001b[0m\u001b[0mkwds_defaults\u001b[0m\u001b[0;34m)\u001b[0m\u001b[0;34m\u001b[0m\u001b[0;34m\u001b[0m\u001b[0m\n\u001b[1;32m    585\u001b[0m \u001b[0;34m\u001b[0m\u001b[0m\n\u001b[0;32m--> 586\u001b[0;31m     \u001b[0;32mreturn\u001b[0m \u001b[0m_read\u001b[0m\u001b[0;34m(\u001b[0m\u001b[0mfilepath_or_buffer\u001b[0m\u001b[0;34m,\u001b[0m \u001b[0mkwds\u001b[0m\u001b[0;34m)\u001b[0m\u001b[0;34m\u001b[0m\u001b[0;34m\u001b[0m\u001b[0m\n\u001b[0m\u001b[1;32m    587\u001b[0m \u001b[0;34m\u001b[0m\u001b[0m\n\u001b[1;32m    588\u001b[0m \u001b[0;34m\u001b[0m\u001b[0m\n",
            "\u001b[0;32m/usr/local/lib/python3.7/dist-packages/pandas/io/parsers/readers.py\u001b[0m in \u001b[0;36m_read\u001b[0;34m(filepath_or_buffer, kwds)\u001b[0m\n\u001b[1;32m    480\u001b[0m \u001b[0;34m\u001b[0m\u001b[0m\n\u001b[1;32m    481\u001b[0m     \u001b[0;31m# Create the parser.\u001b[0m\u001b[0;34m\u001b[0m\u001b[0;34m\u001b[0m\u001b[0;34m\u001b[0m\u001b[0m\n\u001b[0;32m--> 482\u001b[0;31m     \u001b[0mparser\u001b[0m \u001b[0;34m=\u001b[0m \u001b[0mTextFileReader\u001b[0m\u001b[0;34m(\u001b[0m\u001b[0mfilepath_or_buffer\u001b[0m\u001b[0;34m,\u001b[0m \u001b[0;34m**\u001b[0m\u001b[0mkwds\u001b[0m\u001b[0;34m)\u001b[0m\u001b[0;34m\u001b[0m\u001b[0;34m\u001b[0m\u001b[0m\n\u001b[0m\u001b[1;32m    483\u001b[0m \u001b[0;34m\u001b[0m\u001b[0m\n\u001b[1;32m    484\u001b[0m     \u001b[0;32mif\u001b[0m \u001b[0mchunksize\u001b[0m \u001b[0;32mor\u001b[0m \u001b[0miterator\u001b[0m\u001b[0;34m:\u001b[0m\u001b[0;34m\u001b[0m\u001b[0;34m\u001b[0m\u001b[0m\n",
            "\u001b[0;32m/usr/local/lib/python3.7/dist-packages/pandas/io/parsers/readers.py\u001b[0m in \u001b[0;36m__init__\u001b[0;34m(self, f, engine, **kwds)\u001b[0m\n\u001b[1;32m    809\u001b[0m             \u001b[0mself\u001b[0m\u001b[0;34m.\u001b[0m\u001b[0moptions\u001b[0m\u001b[0;34m[\u001b[0m\u001b[0;34m\"has_index_names\"\u001b[0m\u001b[0;34m]\u001b[0m \u001b[0;34m=\u001b[0m \u001b[0mkwds\u001b[0m\u001b[0;34m[\u001b[0m\u001b[0;34m\"has_index_names\"\u001b[0m\u001b[0;34m]\u001b[0m\u001b[0;34m\u001b[0m\u001b[0;34m\u001b[0m\u001b[0m\n\u001b[1;32m    810\u001b[0m \u001b[0;34m\u001b[0m\u001b[0m\n\u001b[0;32m--> 811\u001b[0;31m         \u001b[0mself\u001b[0m\u001b[0;34m.\u001b[0m\u001b[0m_engine\u001b[0m \u001b[0;34m=\u001b[0m \u001b[0mself\u001b[0m\u001b[0;34m.\u001b[0m\u001b[0m_make_engine\u001b[0m\u001b[0;34m(\u001b[0m\u001b[0mself\u001b[0m\u001b[0;34m.\u001b[0m\u001b[0mengine\u001b[0m\u001b[0;34m)\u001b[0m\u001b[0;34m\u001b[0m\u001b[0;34m\u001b[0m\u001b[0m\n\u001b[0m\u001b[1;32m    812\u001b[0m \u001b[0;34m\u001b[0m\u001b[0m\n\u001b[1;32m    813\u001b[0m     \u001b[0;32mdef\u001b[0m \u001b[0mclose\u001b[0m\u001b[0;34m(\u001b[0m\u001b[0mself\u001b[0m\u001b[0;34m)\u001b[0m\u001b[0;34m:\u001b[0m\u001b[0;34m\u001b[0m\u001b[0;34m\u001b[0m\u001b[0m\n",
            "\u001b[0;32m/usr/local/lib/python3.7/dist-packages/pandas/io/parsers/readers.py\u001b[0m in \u001b[0;36m_make_engine\u001b[0;34m(self, engine)\u001b[0m\n\u001b[1;32m   1038\u001b[0m             )\n\u001b[1;32m   1039\u001b[0m         \u001b[0;31m# error: Too many arguments for \"ParserBase\"\u001b[0m\u001b[0;34m\u001b[0m\u001b[0;34m\u001b[0m\u001b[0;34m\u001b[0m\u001b[0m\n\u001b[0;32m-> 1040\u001b[0;31m         \u001b[0;32mreturn\u001b[0m \u001b[0mmapping\u001b[0m\u001b[0;34m[\u001b[0m\u001b[0mengine\u001b[0m\u001b[0;34m]\u001b[0m\u001b[0;34m(\u001b[0m\u001b[0mself\u001b[0m\u001b[0;34m.\u001b[0m\u001b[0mf\u001b[0m\u001b[0;34m,\u001b[0m \u001b[0;34m**\u001b[0m\u001b[0mself\u001b[0m\u001b[0;34m.\u001b[0m\u001b[0moptions\u001b[0m\u001b[0;34m)\u001b[0m  \u001b[0;31m# type: ignore[call-arg]\u001b[0m\u001b[0;34m\u001b[0m\u001b[0;34m\u001b[0m\u001b[0m\n\u001b[0m\u001b[1;32m   1041\u001b[0m \u001b[0;34m\u001b[0m\u001b[0m\n\u001b[1;32m   1042\u001b[0m     \u001b[0;32mdef\u001b[0m \u001b[0m_failover_to_python\u001b[0m\u001b[0;34m(\u001b[0m\u001b[0mself\u001b[0m\u001b[0;34m)\u001b[0m\u001b[0;34m:\u001b[0m\u001b[0;34m\u001b[0m\u001b[0;34m\u001b[0m\u001b[0m\n",
            "\u001b[0;32m/usr/local/lib/python3.7/dist-packages/pandas/io/parsers/c_parser_wrapper.py\u001b[0m in \u001b[0;36m__init__\u001b[0;34m(self, src, **kwds)\u001b[0m\n\u001b[1;32m     49\u001b[0m \u001b[0;34m\u001b[0m\u001b[0m\n\u001b[1;32m     50\u001b[0m         \u001b[0;31m# open handles\u001b[0m\u001b[0;34m\u001b[0m\u001b[0;34m\u001b[0m\u001b[0;34m\u001b[0m\u001b[0m\n\u001b[0;32m---> 51\u001b[0;31m         \u001b[0mself\u001b[0m\u001b[0;34m.\u001b[0m\u001b[0m_open_handles\u001b[0m\u001b[0;34m(\u001b[0m\u001b[0msrc\u001b[0m\u001b[0;34m,\u001b[0m \u001b[0mkwds\u001b[0m\u001b[0;34m)\u001b[0m\u001b[0;34m\u001b[0m\u001b[0;34m\u001b[0m\u001b[0m\n\u001b[0m\u001b[1;32m     52\u001b[0m         \u001b[0;32massert\u001b[0m \u001b[0mself\u001b[0m\u001b[0;34m.\u001b[0m\u001b[0mhandles\u001b[0m \u001b[0;32mis\u001b[0m \u001b[0;32mnot\u001b[0m \u001b[0;32mNone\u001b[0m\u001b[0;34m\u001b[0m\u001b[0;34m\u001b[0m\u001b[0m\n\u001b[1;32m     53\u001b[0m \u001b[0;34m\u001b[0m\u001b[0m\n",
            "\u001b[0;32m/usr/local/lib/python3.7/dist-packages/pandas/io/parsers/base_parser.py\u001b[0m in \u001b[0;36m_open_handles\u001b[0;34m(self, src, kwds)\u001b[0m\n\u001b[1;32m    227\u001b[0m             \u001b[0mmemory_map\u001b[0m\u001b[0;34m=\u001b[0m\u001b[0mkwds\u001b[0m\u001b[0;34m.\u001b[0m\u001b[0mget\u001b[0m\u001b[0;34m(\u001b[0m\u001b[0;34m\"memory_map\"\u001b[0m\u001b[0;34m,\u001b[0m \u001b[0;32mFalse\u001b[0m\u001b[0;34m)\u001b[0m\u001b[0;34m,\u001b[0m\u001b[0;34m\u001b[0m\u001b[0;34m\u001b[0m\u001b[0m\n\u001b[1;32m    228\u001b[0m             \u001b[0mstorage_options\u001b[0m\u001b[0;34m=\u001b[0m\u001b[0mkwds\u001b[0m\u001b[0;34m.\u001b[0m\u001b[0mget\u001b[0m\u001b[0;34m(\u001b[0m\u001b[0;34m\"storage_options\"\u001b[0m\u001b[0;34m,\u001b[0m \u001b[0;32mNone\u001b[0m\u001b[0;34m)\u001b[0m\u001b[0;34m,\u001b[0m\u001b[0;34m\u001b[0m\u001b[0;34m\u001b[0m\u001b[0m\n\u001b[0;32m--> 229\u001b[0;31m             \u001b[0merrors\u001b[0m\u001b[0;34m=\u001b[0m\u001b[0mkwds\u001b[0m\u001b[0;34m.\u001b[0m\u001b[0mget\u001b[0m\u001b[0;34m(\u001b[0m\u001b[0;34m\"encoding_errors\"\u001b[0m\u001b[0;34m,\u001b[0m \u001b[0;34m\"strict\"\u001b[0m\u001b[0;34m)\u001b[0m\u001b[0;34m,\u001b[0m\u001b[0;34m\u001b[0m\u001b[0;34m\u001b[0m\u001b[0m\n\u001b[0m\u001b[1;32m    230\u001b[0m         )\n\u001b[1;32m    231\u001b[0m \u001b[0;34m\u001b[0m\u001b[0m\n",
            "\u001b[0;32m/usr/local/lib/python3.7/dist-packages/pandas/io/common.py\u001b[0m in \u001b[0;36mget_handle\u001b[0;34m(path_or_buf, mode, encoding, compression, memory_map, is_text, errors, storage_options)\u001b[0m\n\u001b[1;32m    612\u001b[0m         \u001b[0mcompression\u001b[0m\u001b[0;34m=\u001b[0m\u001b[0mcompression\u001b[0m\u001b[0;34m,\u001b[0m\u001b[0;34m\u001b[0m\u001b[0;34m\u001b[0m\u001b[0m\n\u001b[1;32m    613\u001b[0m         \u001b[0mmode\u001b[0m\u001b[0;34m=\u001b[0m\u001b[0mmode\u001b[0m\u001b[0;34m,\u001b[0m\u001b[0;34m\u001b[0m\u001b[0;34m\u001b[0m\u001b[0m\n\u001b[0;32m--> 614\u001b[0;31m         \u001b[0mstorage_options\u001b[0m\u001b[0;34m=\u001b[0m\u001b[0mstorage_options\u001b[0m\u001b[0;34m,\u001b[0m\u001b[0;34m\u001b[0m\u001b[0;34m\u001b[0m\u001b[0m\n\u001b[0m\u001b[1;32m    615\u001b[0m     )\n\u001b[1;32m    616\u001b[0m \u001b[0;34m\u001b[0m\u001b[0m\n",
            "\u001b[0;32m/usr/local/lib/python3.7/dist-packages/pandas/io/common.py\u001b[0m in \u001b[0;36m_get_filepath_or_buffer\u001b[0;34m(filepath_or_buffer, encoding, compression, mode, storage_options)\u001b[0m\n\u001b[1;32m    310\u001b[0m         \u001b[0;31m# assuming storage_options is to be interpreted as headers\u001b[0m\u001b[0;34m\u001b[0m\u001b[0;34m\u001b[0m\u001b[0;34m\u001b[0m\u001b[0m\n\u001b[1;32m    311\u001b[0m         \u001b[0mreq_info\u001b[0m \u001b[0;34m=\u001b[0m \u001b[0murllib\u001b[0m\u001b[0;34m.\u001b[0m\u001b[0mrequest\u001b[0m\u001b[0;34m.\u001b[0m\u001b[0mRequest\u001b[0m\u001b[0;34m(\u001b[0m\u001b[0mfilepath_or_buffer\u001b[0m\u001b[0;34m,\u001b[0m \u001b[0mheaders\u001b[0m\u001b[0;34m=\u001b[0m\u001b[0mstorage_options\u001b[0m\u001b[0;34m)\u001b[0m\u001b[0;34m\u001b[0m\u001b[0;34m\u001b[0m\u001b[0m\n\u001b[0;32m--> 312\u001b[0;31m         \u001b[0;32mwith\u001b[0m \u001b[0murlopen\u001b[0m\u001b[0;34m(\u001b[0m\u001b[0mreq_info\u001b[0m\u001b[0;34m)\u001b[0m \u001b[0;32mas\u001b[0m \u001b[0mreq\u001b[0m\u001b[0;34m:\u001b[0m\u001b[0;34m\u001b[0m\u001b[0;34m\u001b[0m\u001b[0m\n\u001b[0m\u001b[1;32m    313\u001b[0m             \u001b[0mcontent_encoding\u001b[0m \u001b[0;34m=\u001b[0m \u001b[0mreq\u001b[0m\u001b[0;34m.\u001b[0m\u001b[0mheaders\u001b[0m\u001b[0;34m.\u001b[0m\u001b[0mget\u001b[0m\u001b[0;34m(\u001b[0m\u001b[0;34m\"Content-Encoding\"\u001b[0m\u001b[0;34m,\u001b[0m \u001b[0;32mNone\u001b[0m\u001b[0;34m)\u001b[0m\u001b[0;34m\u001b[0m\u001b[0;34m\u001b[0m\u001b[0m\n\u001b[1;32m    314\u001b[0m             \u001b[0;32mif\u001b[0m \u001b[0mcontent_encoding\u001b[0m \u001b[0;34m==\u001b[0m \u001b[0;34m\"gzip\"\u001b[0m\u001b[0;34m:\u001b[0m\u001b[0;34m\u001b[0m\u001b[0;34m\u001b[0m\u001b[0m\n",
            "\u001b[0;32m/usr/local/lib/python3.7/dist-packages/pandas/io/common.py\u001b[0m in \u001b[0;36murlopen\u001b[0;34m(*args, **kwargs)\u001b[0m\n\u001b[1;32m    210\u001b[0m     \u001b[0;32mimport\u001b[0m \u001b[0murllib\u001b[0m\u001b[0;34m.\u001b[0m\u001b[0mrequest\u001b[0m\u001b[0;34m\u001b[0m\u001b[0;34m\u001b[0m\u001b[0m\n\u001b[1;32m    211\u001b[0m \u001b[0;34m\u001b[0m\u001b[0m\n\u001b[0;32m--> 212\u001b[0;31m     \u001b[0;32mreturn\u001b[0m \u001b[0murllib\u001b[0m\u001b[0;34m.\u001b[0m\u001b[0mrequest\u001b[0m\u001b[0;34m.\u001b[0m\u001b[0murlopen\u001b[0m\u001b[0;34m(\u001b[0m\u001b[0;34m*\u001b[0m\u001b[0margs\u001b[0m\u001b[0;34m,\u001b[0m \u001b[0;34m**\u001b[0m\u001b[0mkwargs\u001b[0m\u001b[0;34m)\u001b[0m\u001b[0;34m\u001b[0m\u001b[0;34m\u001b[0m\u001b[0m\n\u001b[0m\u001b[1;32m    213\u001b[0m \u001b[0;34m\u001b[0m\u001b[0m\n\u001b[1;32m    214\u001b[0m \u001b[0;34m\u001b[0m\u001b[0m\n",
            "\u001b[0;32m/usr/lib/python3.7/urllib/request.py\u001b[0m in \u001b[0;36murlopen\u001b[0;34m(url, data, timeout, cafile, capath, cadefault, context)\u001b[0m\n\u001b[1;32m    220\u001b[0m     \u001b[0;32melse\u001b[0m\u001b[0;34m:\u001b[0m\u001b[0;34m\u001b[0m\u001b[0;34m\u001b[0m\u001b[0m\n\u001b[1;32m    221\u001b[0m         \u001b[0mopener\u001b[0m \u001b[0;34m=\u001b[0m \u001b[0m_opener\u001b[0m\u001b[0;34m\u001b[0m\u001b[0;34m\u001b[0m\u001b[0m\n\u001b[0;32m--> 222\u001b[0;31m     \u001b[0;32mreturn\u001b[0m \u001b[0mopener\u001b[0m\u001b[0;34m.\u001b[0m\u001b[0mopen\u001b[0m\u001b[0;34m(\u001b[0m\u001b[0murl\u001b[0m\u001b[0;34m,\u001b[0m \u001b[0mdata\u001b[0m\u001b[0;34m,\u001b[0m \u001b[0mtimeout\u001b[0m\u001b[0;34m)\u001b[0m\u001b[0;34m\u001b[0m\u001b[0;34m\u001b[0m\u001b[0m\n\u001b[0m\u001b[1;32m    223\u001b[0m \u001b[0;34m\u001b[0m\u001b[0m\n\u001b[1;32m    224\u001b[0m \u001b[0;32mdef\u001b[0m \u001b[0minstall_opener\u001b[0m\u001b[0;34m(\u001b[0m\u001b[0mopener\u001b[0m\u001b[0;34m)\u001b[0m\u001b[0;34m:\u001b[0m\u001b[0;34m\u001b[0m\u001b[0;34m\u001b[0m\u001b[0m\n",
            "\u001b[0;32m/usr/lib/python3.7/urllib/request.py\u001b[0m in \u001b[0;36mopen\u001b[0;34m(self, fullurl, data, timeout)\u001b[0m\n\u001b[1;32m    529\u001b[0m         \u001b[0;32mfor\u001b[0m \u001b[0mprocessor\u001b[0m \u001b[0;32min\u001b[0m \u001b[0mself\u001b[0m\u001b[0;34m.\u001b[0m\u001b[0mprocess_response\u001b[0m\u001b[0;34m.\u001b[0m\u001b[0mget\u001b[0m\u001b[0;34m(\u001b[0m\u001b[0mprotocol\u001b[0m\u001b[0;34m,\u001b[0m \u001b[0;34m[\u001b[0m\u001b[0;34m]\u001b[0m\u001b[0;34m)\u001b[0m\u001b[0;34m:\u001b[0m\u001b[0;34m\u001b[0m\u001b[0;34m\u001b[0m\u001b[0m\n\u001b[1;32m    530\u001b[0m             \u001b[0mmeth\u001b[0m \u001b[0;34m=\u001b[0m \u001b[0mgetattr\u001b[0m\u001b[0;34m(\u001b[0m\u001b[0mprocessor\u001b[0m\u001b[0;34m,\u001b[0m \u001b[0mmeth_name\u001b[0m\u001b[0;34m)\u001b[0m\u001b[0;34m\u001b[0m\u001b[0;34m\u001b[0m\u001b[0m\n\u001b[0;32m--> 531\u001b[0;31m             \u001b[0mresponse\u001b[0m \u001b[0;34m=\u001b[0m \u001b[0mmeth\u001b[0m\u001b[0;34m(\u001b[0m\u001b[0mreq\u001b[0m\u001b[0;34m,\u001b[0m \u001b[0mresponse\u001b[0m\u001b[0;34m)\u001b[0m\u001b[0;34m\u001b[0m\u001b[0;34m\u001b[0m\u001b[0m\n\u001b[0m\u001b[1;32m    532\u001b[0m \u001b[0;34m\u001b[0m\u001b[0m\n\u001b[1;32m    533\u001b[0m         \u001b[0;32mreturn\u001b[0m \u001b[0mresponse\u001b[0m\u001b[0;34m\u001b[0m\u001b[0;34m\u001b[0m\u001b[0m\n",
            "\u001b[0;32m/usr/lib/python3.7/urllib/request.py\u001b[0m in \u001b[0;36mhttp_response\u001b[0;34m(self, request, response)\u001b[0m\n\u001b[1;32m    639\u001b[0m         \u001b[0;32mif\u001b[0m \u001b[0;32mnot\u001b[0m \u001b[0;34m(\u001b[0m\u001b[0;36m200\u001b[0m \u001b[0;34m<=\u001b[0m \u001b[0mcode\u001b[0m \u001b[0;34m<\u001b[0m \u001b[0;36m300\u001b[0m\u001b[0;34m)\u001b[0m\u001b[0;34m:\u001b[0m\u001b[0;34m\u001b[0m\u001b[0;34m\u001b[0m\u001b[0m\n\u001b[1;32m    640\u001b[0m             response = self.parent.error(\n\u001b[0;32m--> 641\u001b[0;31m                 'http', request, response, code, msg, hdrs)\n\u001b[0m\u001b[1;32m    642\u001b[0m \u001b[0;34m\u001b[0m\u001b[0m\n\u001b[1;32m    643\u001b[0m         \u001b[0;32mreturn\u001b[0m \u001b[0mresponse\u001b[0m\u001b[0;34m\u001b[0m\u001b[0;34m\u001b[0m\u001b[0m\n",
            "\u001b[0;32m/usr/lib/python3.7/urllib/request.py\u001b[0m in \u001b[0;36merror\u001b[0;34m(self, proto, *args)\u001b[0m\n\u001b[1;32m    567\u001b[0m         \u001b[0;32mif\u001b[0m \u001b[0mhttp_err\u001b[0m\u001b[0;34m:\u001b[0m\u001b[0;34m\u001b[0m\u001b[0;34m\u001b[0m\u001b[0m\n\u001b[1;32m    568\u001b[0m             \u001b[0margs\u001b[0m \u001b[0;34m=\u001b[0m \u001b[0;34m(\u001b[0m\u001b[0mdict\u001b[0m\u001b[0;34m,\u001b[0m \u001b[0;34m'default'\u001b[0m\u001b[0;34m,\u001b[0m \u001b[0;34m'http_error_default'\u001b[0m\u001b[0;34m)\u001b[0m \u001b[0;34m+\u001b[0m \u001b[0morig_args\u001b[0m\u001b[0;34m\u001b[0m\u001b[0;34m\u001b[0m\u001b[0m\n\u001b[0;32m--> 569\u001b[0;31m             \u001b[0;32mreturn\u001b[0m \u001b[0mself\u001b[0m\u001b[0;34m.\u001b[0m\u001b[0m_call_chain\u001b[0m\u001b[0;34m(\u001b[0m\u001b[0;34m*\u001b[0m\u001b[0margs\u001b[0m\u001b[0;34m)\u001b[0m\u001b[0;34m\u001b[0m\u001b[0;34m\u001b[0m\u001b[0m\n\u001b[0m\u001b[1;32m    570\u001b[0m \u001b[0;34m\u001b[0m\u001b[0m\n\u001b[1;32m    571\u001b[0m \u001b[0;31m# XXX probably also want an abstract factory that knows when it makes\u001b[0m\u001b[0;34m\u001b[0m\u001b[0;34m\u001b[0m\u001b[0;34m\u001b[0m\u001b[0m\n",
            "\u001b[0;32m/usr/lib/python3.7/urllib/request.py\u001b[0m in \u001b[0;36m_call_chain\u001b[0;34m(self, chain, kind, meth_name, *args)\u001b[0m\n\u001b[1;32m    501\u001b[0m         \u001b[0;32mfor\u001b[0m \u001b[0mhandler\u001b[0m \u001b[0;32min\u001b[0m \u001b[0mhandlers\u001b[0m\u001b[0;34m:\u001b[0m\u001b[0;34m\u001b[0m\u001b[0;34m\u001b[0m\u001b[0m\n\u001b[1;32m    502\u001b[0m             \u001b[0mfunc\u001b[0m \u001b[0;34m=\u001b[0m \u001b[0mgetattr\u001b[0m\u001b[0;34m(\u001b[0m\u001b[0mhandler\u001b[0m\u001b[0;34m,\u001b[0m \u001b[0mmeth_name\u001b[0m\u001b[0;34m)\u001b[0m\u001b[0;34m\u001b[0m\u001b[0;34m\u001b[0m\u001b[0m\n\u001b[0;32m--> 503\u001b[0;31m             \u001b[0mresult\u001b[0m \u001b[0;34m=\u001b[0m \u001b[0mfunc\u001b[0m\u001b[0;34m(\u001b[0m\u001b[0;34m*\u001b[0m\u001b[0margs\u001b[0m\u001b[0;34m)\u001b[0m\u001b[0;34m\u001b[0m\u001b[0;34m\u001b[0m\u001b[0m\n\u001b[0m\u001b[1;32m    504\u001b[0m             \u001b[0;32mif\u001b[0m \u001b[0mresult\u001b[0m \u001b[0;32mis\u001b[0m \u001b[0;32mnot\u001b[0m \u001b[0;32mNone\u001b[0m\u001b[0;34m:\u001b[0m\u001b[0;34m\u001b[0m\u001b[0;34m\u001b[0m\u001b[0m\n\u001b[1;32m    505\u001b[0m                 \u001b[0;32mreturn\u001b[0m \u001b[0mresult\u001b[0m\u001b[0;34m\u001b[0m\u001b[0;34m\u001b[0m\u001b[0m\n",
            "\u001b[0;32m/usr/lib/python3.7/urllib/request.py\u001b[0m in \u001b[0;36mhttp_error_default\u001b[0;34m(self, req, fp, code, msg, hdrs)\u001b[0m\n\u001b[1;32m    647\u001b[0m \u001b[0;32mclass\u001b[0m \u001b[0mHTTPDefaultErrorHandler\u001b[0m\u001b[0;34m(\u001b[0m\u001b[0mBaseHandler\u001b[0m\u001b[0;34m)\u001b[0m\u001b[0;34m:\u001b[0m\u001b[0;34m\u001b[0m\u001b[0;34m\u001b[0m\u001b[0m\n\u001b[1;32m    648\u001b[0m     \u001b[0;32mdef\u001b[0m \u001b[0mhttp_error_default\u001b[0m\u001b[0;34m(\u001b[0m\u001b[0mself\u001b[0m\u001b[0;34m,\u001b[0m \u001b[0mreq\u001b[0m\u001b[0;34m,\u001b[0m \u001b[0mfp\u001b[0m\u001b[0;34m,\u001b[0m \u001b[0mcode\u001b[0m\u001b[0;34m,\u001b[0m \u001b[0mmsg\u001b[0m\u001b[0;34m,\u001b[0m \u001b[0mhdrs\u001b[0m\u001b[0;34m)\u001b[0m\u001b[0;34m:\u001b[0m\u001b[0;34m\u001b[0m\u001b[0;34m\u001b[0m\u001b[0m\n\u001b[0;32m--> 649\u001b[0;31m         \u001b[0;32mraise\u001b[0m \u001b[0mHTTPError\u001b[0m\u001b[0;34m(\u001b[0m\u001b[0mreq\u001b[0m\u001b[0;34m.\u001b[0m\u001b[0mfull_url\u001b[0m\u001b[0;34m,\u001b[0m \u001b[0mcode\u001b[0m\u001b[0;34m,\u001b[0m \u001b[0mmsg\u001b[0m\u001b[0;34m,\u001b[0m \u001b[0mhdrs\u001b[0m\u001b[0;34m,\u001b[0m \u001b[0mfp\u001b[0m\u001b[0;34m)\u001b[0m\u001b[0;34m\u001b[0m\u001b[0;34m\u001b[0m\u001b[0m\n\u001b[0m\u001b[1;32m    650\u001b[0m \u001b[0;34m\u001b[0m\u001b[0m\n\u001b[1;32m    651\u001b[0m \u001b[0;32mclass\u001b[0m \u001b[0mHTTPRedirectHandler\u001b[0m\u001b[0;34m(\u001b[0m\u001b[0mBaseHandler\u001b[0m\u001b[0;34m)\u001b[0m\u001b[0;34m:\u001b[0m\u001b[0;34m\u001b[0m\u001b[0;34m\u001b[0m\u001b[0m\n",
            "\u001b[0;31mHTTPError\u001b[0m: HTTP Error 404: Not Found"
          ]
        }
      ]
    },
    {
      "cell_type": "code",
      "source": [],
      "metadata": {
        "colab": {
          "base_uri": "https://localhost:8080/",
          "height": 389
        },
        "id": "DeSOjBkl-Iz1",
        "outputId": "e60000f7-1ece-4aaa-cbed-c4b6735a9409"
      },
      "execution_count": 12,
      "outputs": [
        {
          "output_type": "error",
          "ename": "HTTPError",
          "evalue": "ignored",
          "traceback": [
            "\u001b[0;31m---------------------------------------------------------------------------\u001b[0m",
            "\u001b[0;31mHTTPError\u001b[0m                                 Traceback (most recent call last)",
            "\u001b[0;32m<ipython-input-12-64dfab9a91e5>\u001b[0m in \u001b[0;36m<module>\u001b[0;34m\u001b[0m\n\u001b[0;32m----> 1\u001b[0;31m \u001b[0mASUB\u001b[0m \u001b[0;34m=\u001b[0m \u001b[0mpd\u001b[0m\u001b[0;34m.\u001b[0m\u001b[0mread_csv\u001b[0m\u001b[0;34m(\u001b[0m\u001b[0mData\u001b[0m\u001b[0;34m)\u001b[0m\u001b[0;34m\u001b[0m\u001b[0;34m\u001b[0m\u001b[0m\n\u001b[0m\u001b[1;32m      2\u001b[0m \u001b[0;31m#index_col=0)  #, header = 0,\u001b[0m\u001b[0;34m\u001b[0m\u001b[0;34m\u001b[0m\u001b[0;34m\u001b[0m\u001b[0m\n\u001b[1;32m      3\u001b[0m \u001b[0;31m#AGUA_SUB.head()\u001b[0m\u001b[0;34m\u001b[0m\u001b[0;34m\u001b[0m\u001b[0;34m\u001b[0m\u001b[0m\n\u001b[1;32m      4\u001b[0m \u001b[0;31m#AGUA_SUB = pd.DataFrame(AGUA_SUB)\u001b[0m\u001b[0;34m\u001b[0m\u001b[0;34m\u001b[0m\u001b[0;34m\u001b[0m\u001b[0m\n\u001b[1;32m      5\u001b[0m \u001b[0;31m#Carga los datos y sustituye los nombres de las columnas del alemán al inglés de acuerdo a como se indica en la página de la UCI.\u001b[0m\u001b[0;34m\u001b[0m\u001b[0;34m\u001b[0m\u001b[0;34m\u001b[0m\u001b[0m\n",
            "\u001b[0;32m/usr/local/lib/python3.7/dist-packages/pandas/util/_decorators.py\u001b[0m in \u001b[0;36mwrapper\u001b[0;34m(*args, **kwargs)\u001b[0m\n\u001b[1;32m    309\u001b[0m                     \u001b[0mstacklevel\u001b[0m\u001b[0;34m=\u001b[0m\u001b[0mstacklevel\u001b[0m\u001b[0;34m,\u001b[0m\u001b[0;34m\u001b[0m\u001b[0;34m\u001b[0m\u001b[0m\n\u001b[1;32m    310\u001b[0m                 )\n\u001b[0;32m--> 311\u001b[0;31m             \u001b[0;32mreturn\u001b[0m \u001b[0mfunc\u001b[0m\u001b[0;34m(\u001b[0m\u001b[0;34m*\u001b[0m\u001b[0margs\u001b[0m\u001b[0;34m,\u001b[0m \u001b[0;34m**\u001b[0m\u001b[0mkwargs\u001b[0m\u001b[0;34m)\u001b[0m\u001b[0;34m\u001b[0m\u001b[0;34m\u001b[0m\u001b[0m\n\u001b[0m\u001b[1;32m    312\u001b[0m \u001b[0;34m\u001b[0m\u001b[0m\n\u001b[1;32m    313\u001b[0m         \u001b[0;32mreturn\u001b[0m \u001b[0mwrapper\u001b[0m\u001b[0;34m\u001b[0m\u001b[0;34m\u001b[0m\u001b[0m\n",
            "\u001b[0;32m/usr/local/lib/python3.7/dist-packages/pandas/io/parsers/readers.py\u001b[0m in \u001b[0;36mread_csv\u001b[0;34m(filepath_or_buffer, sep, delimiter, header, names, index_col, usecols, squeeze, prefix, mangle_dupe_cols, dtype, engine, converters, true_values, false_values, skipinitialspace, skiprows, skipfooter, nrows, na_values, keep_default_na, na_filter, verbose, skip_blank_lines, parse_dates, infer_datetime_format, keep_date_col, date_parser, dayfirst, cache_dates, iterator, chunksize, compression, thousands, decimal, lineterminator, quotechar, quoting, doublequote, escapechar, comment, encoding, encoding_errors, dialect, error_bad_lines, warn_bad_lines, on_bad_lines, delim_whitespace, low_memory, memory_map, float_precision, storage_options)\u001b[0m\n\u001b[1;32m    584\u001b[0m     \u001b[0mkwds\u001b[0m\u001b[0;34m.\u001b[0m\u001b[0mupdate\u001b[0m\u001b[0;34m(\u001b[0m\u001b[0mkwds_defaults\u001b[0m\u001b[0;34m)\u001b[0m\u001b[0;34m\u001b[0m\u001b[0;34m\u001b[0m\u001b[0m\n\u001b[1;32m    585\u001b[0m \u001b[0;34m\u001b[0m\u001b[0m\n\u001b[0;32m--> 586\u001b[0;31m     \u001b[0;32mreturn\u001b[0m \u001b[0m_read\u001b[0m\u001b[0;34m(\u001b[0m\u001b[0mfilepath_or_buffer\u001b[0m\u001b[0;34m,\u001b[0m \u001b[0mkwds\u001b[0m\u001b[0;34m)\u001b[0m\u001b[0;34m\u001b[0m\u001b[0;34m\u001b[0m\u001b[0m\n\u001b[0m\u001b[1;32m    587\u001b[0m \u001b[0;34m\u001b[0m\u001b[0m\n\u001b[1;32m    588\u001b[0m \u001b[0;34m\u001b[0m\u001b[0m\n",
            "\u001b[0;32m/usr/local/lib/python3.7/dist-packages/pandas/io/parsers/readers.py\u001b[0m in \u001b[0;36m_read\u001b[0;34m(filepath_or_buffer, kwds)\u001b[0m\n\u001b[1;32m    480\u001b[0m \u001b[0;34m\u001b[0m\u001b[0m\n\u001b[1;32m    481\u001b[0m     \u001b[0;31m# Create the parser.\u001b[0m\u001b[0;34m\u001b[0m\u001b[0;34m\u001b[0m\u001b[0;34m\u001b[0m\u001b[0m\n\u001b[0;32m--> 482\u001b[0;31m     \u001b[0mparser\u001b[0m \u001b[0;34m=\u001b[0m \u001b[0mTextFileReader\u001b[0m\u001b[0;34m(\u001b[0m\u001b[0mfilepath_or_buffer\u001b[0m\u001b[0;34m,\u001b[0m \u001b[0;34m**\u001b[0m\u001b[0mkwds\u001b[0m\u001b[0;34m)\u001b[0m\u001b[0;34m\u001b[0m\u001b[0;34m\u001b[0m\u001b[0m\n\u001b[0m\u001b[1;32m    483\u001b[0m \u001b[0;34m\u001b[0m\u001b[0m\n\u001b[1;32m    484\u001b[0m     \u001b[0;32mif\u001b[0m \u001b[0mchunksize\u001b[0m \u001b[0;32mor\u001b[0m \u001b[0miterator\u001b[0m\u001b[0;34m:\u001b[0m\u001b[0;34m\u001b[0m\u001b[0;34m\u001b[0m\u001b[0m\n",
            "\u001b[0;32m/usr/local/lib/python3.7/dist-packages/pandas/io/parsers/readers.py\u001b[0m in \u001b[0;36m__init__\u001b[0;34m(self, f, engine, **kwds)\u001b[0m\n\u001b[1;32m    809\u001b[0m             \u001b[0mself\u001b[0m\u001b[0;34m.\u001b[0m\u001b[0moptions\u001b[0m\u001b[0;34m[\u001b[0m\u001b[0;34m\"has_index_names\"\u001b[0m\u001b[0;34m]\u001b[0m \u001b[0;34m=\u001b[0m \u001b[0mkwds\u001b[0m\u001b[0;34m[\u001b[0m\u001b[0;34m\"has_index_names\"\u001b[0m\u001b[0;34m]\u001b[0m\u001b[0;34m\u001b[0m\u001b[0;34m\u001b[0m\u001b[0m\n\u001b[1;32m    810\u001b[0m \u001b[0;34m\u001b[0m\u001b[0m\n\u001b[0;32m--> 811\u001b[0;31m         \u001b[0mself\u001b[0m\u001b[0;34m.\u001b[0m\u001b[0m_engine\u001b[0m \u001b[0;34m=\u001b[0m \u001b[0mself\u001b[0m\u001b[0;34m.\u001b[0m\u001b[0m_make_engine\u001b[0m\u001b[0;34m(\u001b[0m\u001b[0mself\u001b[0m\u001b[0;34m.\u001b[0m\u001b[0mengine\u001b[0m\u001b[0;34m)\u001b[0m\u001b[0;34m\u001b[0m\u001b[0;34m\u001b[0m\u001b[0m\n\u001b[0m\u001b[1;32m    812\u001b[0m \u001b[0;34m\u001b[0m\u001b[0m\n\u001b[1;32m    813\u001b[0m     \u001b[0;32mdef\u001b[0m \u001b[0mclose\u001b[0m\u001b[0;34m(\u001b[0m\u001b[0mself\u001b[0m\u001b[0;34m)\u001b[0m\u001b[0;34m:\u001b[0m\u001b[0;34m\u001b[0m\u001b[0;34m\u001b[0m\u001b[0m\n",
            "\u001b[0;32m/usr/local/lib/python3.7/dist-packages/pandas/io/parsers/readers.py\u001b[0m in \u001b[0;36m_make_engine\u001b[0;34m(self, engine)\u001b[0m\n\u001b[1;32m   1038\u001b[0m             )\n\u001b[1;32m   1039\u001b[0m         \u001b[0;31m# error: Too many arguments for \"ParserBase\"\u001b[0m\u001b[0;34m\u001b[0m\u001b[0;34m\u001b[0m\u001b[0;34m\u001b[0m\u001b[0m\n\u001b[0;32m-> 1040\u001b[0;31m         \u001b[0;32mreturn\u001b[0m \u001b[0mmapping\u001b[0m\u001b[0;34m[\u001b[0m\u001b[0mengine\u001b[0m\u001b[0;34m]\u001b[0m\u001b[0;34m(\u001b[0m\u001b[0mself\u001b[0m\u001b[0;34m.\u001b[0m\u001b[0mf\u001b[0m\u001b[0;34m,\u001b[0m \u001b[0;34m**\u001b[0m\u001b[0mself\u001b[0m\u001b[0;34m.\u001b[0m\u001b[0moptions\u001b[0m\u001b[0;34m)\u001b[0m  \u001b[0;31m# type: ignore[call-arg]\u001b[0m\u001b[0;34m\u001b[0m\u001b[0;34m\u001b[0m\u001b[0m\n\u001b[0m\u001b[1;32m   1041\u001b[0m \u001b[0;34m\u001b[0m\u001b[0m\n\u001b[1;32m   1042\u001b[0m     \u001b[0;32mdef\u001b[0m \u001b[0m_failover_to_python\u001b[0m\u001b[0;34m(\u001b[0m\u001b[0mself\u001b[0m\u001b[0;34m)\u001b[0m\u001b[0;34m:\u001b[0m\u001b[0;34m\u001b[0m\u001b[0;34m\u001b[0m\u001b[0m\n",
            "\u001b[0;32m/usr/local/lib/python3.7/dist-packages/pandas/io/parsers/c_parser_wrapper.py\u001b[0m in \u001b[0;36m__init__\u001b[0;34m(self, src, **kwds)\u001b[0m\n\u001b[1;32m     49\u001b[0m \u001b[0;34m\u001b[0m\u001b[0m\n\u001b[1;32m     50\u001b[0m         \u001b[0;31m# open handles\u001b[0m\u001b[0;34m\u001b[0m\u001b[0;34m\u001b[0m\u001b[0;34m\u001b[0m\u001b[0m\n\u001b[0;32m---> 51\u001b[0;31m         \u001b[0mself\u001b[0m\u001b[0;34m.\u001b[0m\u001b[0m_open_handles\u001b[0m\u001b[0;34m(\u001b[0m\u001b[0msrc\u001b[0m\u001b[0;34m,\u001b[0m \u001b[0mkwds\u001b[0m\u001b[0;34m)\u001b[0m\u001b[0;34m\u001b[0m\u001b[0;34m\u001b[0m\u001b[0m\n\u001b[0m\u001b[1;32m     52\u001b[0m         \u001b[0;32massert\u001b[0m \u001b[0mself\u001b[0m\u001b[0;34m.\u001b[0m\u001b[0mhandles\u001b[0m \u001b[0;32mis\u001b[0m \u001b[0;32mnot\u001b[0m \u001b[0;32mNone\u001b[0m\u001b[0;34m\u001b[0m\u001b[0;34m\u001b[0m\u001b[0m\n\u001b[1;32m     53\u001b[0m \u001b[0;34m\u001b[0m\u001b[0m\n",
            "\u001b[0;32m/usr/local/lib/python3.7/dist-packages/pandas/io/parsers/base_parser.py\u001b[0m in \u001b[0;36m_open_handles\u001b[0;34m(self, src, kwds)\u001b[0m\n\u001b[1;32m    227\u001b[0m             \u001b[0mmemory_map\u001b[0m\u001b[0;34m=\u001b[0m\u001b[0mkwds\u001b[0m\u001b[0;34m.\u001b[0m\u001b[0mget\u001b[0m\u001b[0;34m(\u001b[0m\u001b[0;34m\"memory_map\"\u001b[0m\u001b[0;34m,\u001b[0m \u001b[0;32mFalse\u001b[0m\u001b[0;34m)\u001b[0m\u001b[0;34m,\u001b[0m\u001b[0;34m\u001b[0m\u001b[0;34m\u001b[0m\u001b[0m\n\u001b[1;32m    228\u001b[0m             \u001b[0mstorage_options\u001b[0m\u001b[0;34m=\u001b[0m\u001b[0mkwds\u001b[0m\u001b[0;34m.\u001b[0m\u001b[0mget\u001b[0m\u001b[0;34m(\u001b[0m\u001b[0;34m\"storage_options\"\u001b[0m\u001b[0;34m,\u001b[0m \u001b[0;32mNone\u001b[0m\u001b[0;34m)\u001b[0m\u001b[0;34m,\u001b[0m\u001b[0;34m\u001b[0m\u001b[0;34m\u001b[0m\u001b[0m\n\u001b[0;32m--> 229\u001b[0;31m             \u001b[0merrors\u001b[0m\u001b[0;34m=\u001b[0m\u001b[0mkwds\u001b[0m\u001b[0;34m.\u001b[0m\u001b[0mget\u001b[0m\u001b[0;34m(\u001b[0m\u001b[0;34m\"encoding_errors\"\u001b[0m\u001b[0;34m,\u001b[0m \u001b[0;34m\"strict\"\u001b[0m\u001b[0;34m)\u001b[0m\u001b[0;34m,\u001b[0m\u001b[0;34m\u001b[0m\u001b[0;34m\u001b[0m\u001b[0m\n\u001b[0m\u001b[1;32m    230\u001b[0m         )\n\u001b[1;32m    231\u001b[0m \u001b[0;34m\u001b[0m\u001b[0m\n",
            "\u001b[0;32m/usr/local/lib/python3.7/dist-packages/pandas/io/common.py\u001b[0m in \u001b[0;36mget_handle\u001b[0;34m(path_or_buf, mode, encoding, compression, memory_map, is_text, errors, storage_options)\u001b[0m\n\u001b[1;32m    612\u001b[0m         \u001b[0mcompression\u001b[0m\u001b[0;34m=\u001b[0m\u001b[0mcompression\u001b[0m\u001b[0;34m,\u001b[0m\u001b[0;34m\u001b[0m\u001b[0;34m\u001b[0m\u001b[0m\n\u001b[1;32m    613\u001b[0m         \u001b[0mmode\u001b[0m\u001b[0;34m=\u001b[0m\u001b[0mmode\u001b[0m\u001b[0;34m,\u001b[0m\u001b[0;34m\u001b[0m\u001b[0;34m\u001b[0m\u001b[0m\n\u001b[0;32m--> 614\u001b[0;31m         \u001b[0mstorage_options\u001b[0m\u001b[0;34m=\u001b[0m\u001b[0mstorage_options\u001b[0m\u001b[0;34m,\u001b[0m\u001b[0;34m\u001b[0m\u001b[0;34m\u001b[0m\u001b[0m\n\u001b[0m\u001b[1;32m    615\u001b[0m     )\n\u001b[1;32m    616\u001b[0m \u001b[0;34m\u001b[0m\u001b[0m\n",
            "\u001b[0;32m/usr/local/lib/python3.7/dist-packages/pandas/io/common.py\u001b[0m in \u001b[0;36m_get_filepath_or_buffer\u001b[0;34m(filepath_or_buffer, encoding, compression, mode, storage_options)\u001b[0m\n\u001b[1;32m    310\u001b[0m         \u001b[0;31m# assuming storage_options is to be interpreted as headers\u001b[0m\u001b[0;34m\u001b[0m\u001b[0;34m\u001b[0m\u001b[0;34m\u001b[0m\u001b[0m\n\u001b[1;32m    311\u001b[0m         \u001b[0mreq_info\u001b[0m \u001b[0;34m=\u001b[0m \u001b[0murllib\u001b[0m\u001b[0;34m.\u001b[0m\u001b[0mrequest\u001b[0m\u001b[0;34m.\u001b[0m\u001b[0mRequest\u001b[0m\u001b[0;34m(\u001b[0m\u001b[0mfilepath_or_buffer\u001b[0m\u001b[0;34m,\u001b[0m \u001b[0mheaders\u001b[0m\u001b[0;34m=\u001b[0m\u001b[0mstorage_options\u001b[0m\u001b[0;34m)\u001b[0m\u001b[0;34m\u001b[0m\u001b[0;34m\u001b[0m\u001b[0m\n\u001b[0;32m--> 312\u001b[0;31m         \u001b[0;32mwith\u001b[0m \u001b[0murlopen\u001b[0m\u001b[0;34m(\u001b[0m\u001b[0mreq_info\u001b[0m\u001b[0;34m)\u001b[0m \u001b[0;32mas\u001b[0m \u001b[0mreq\u001b[0m\u001b[0;34m:\u001b[0m\u001b[0;34m\u001b[0m\u001b[0;34m\u001b[0m\u001b[0m\n\u001b[0m\u001b[1;32m    313\u001b[0m             \u001b[0mcontent_encoding\u001b[0m \u001b[0;34m=\u001b[0m \u001b[0mreq\u001b[0m\u001b[0;34m.\u001b[0m\u001b[0mheaders\u001b[0m\u001b[0;34m.\u001b[0m\u001b[0mget\u001b[0m\u001b[0;34m(\u001b[0m\u001b[0;34m\"Content-Encoding\"\u001b[0m\u001b[0;34m,\u001b[0m \u001b[0;32mNone\u001b[0m\u001b[0;34m)\u001b[0m\u001b[0;34m\u001b[0m\u001b[0;34m\u001b[0m\u001b[0m\n\u001b[1;32m    314\u001b[0m             \u001b[0;32mif\u001b[0m \u001b[0mcontent_encoding\u001b[0m \u001b[0;34m==\u001b[0m \u001b[0;34m\"gzip\"\u001b[0m\u001b[0;34m:\u001b[0m\u001b[0;34m\u001b[0m\u001b[0;34m\u001b[0m\u001b[0m\n",
            "\u001b[0;32m/usr/local/lib/python3.7/dist-packages/pandas/io/common.py\u001b[0m in \u001b[0;36murlopen\u001b[0;34m(*args, **kwargs)\u001b[0m\n\u001b[1;32m    210\u001b[0m     \u001b[0;32mimport\u001b[0m \u001b[0murllib\u001b[0m\u001b[0;34m.\u001b[0m\u001b[0mrequest\u001b[0m\u001b[0;34m\u001b[0m\u001b[0;34m\u001b[0m\u001b[0m\n\u001b[1;32m    211\u001b[0m \u001b[0;34m\u001b[0m\u001b[0m\n\u001b[0;32m--> 212\u001b[0;31m     \u001b[0;32mreturn\u001b[0m \u001b[0murllib\u001b[0m\u001b[0;34m.\u001b[0m\u001b[0mrequest\u001b[0m\u001b[0;34m.\u001b[0m\u001b[0murlopen\u001b[0m\u001b[0;34m(\u001b[0m\u001b[0;34m*\u001b[0m\u001b[0margs\u001b[0m\u001b[0;34m,\u001b[0m \u001b[0;34m**\u001b[0m\u001b[0mkwargs\u001b[0m\u001b[0;34m)\u001b[0m\u001b[0;34m\u001b[0m\u001b[0;34m\u001b[0m\u001b[0m\n\u001b[0m\u001b[1;32m    213\u001b[0m \u001b[0;34m\u001b[0m\u001b[0m\n\u001b[1;32m    214\u001b[0m \u001b[0;34m\u001b[0m\u001b[0m\n",
            "\u001b[0;32m/usr/lib/python3.7/urllib/request.py\u001b[0m in \u001b[0;36murlopen\u001b[0;34m(url, data, timeout, cafile, capath, cadefault, context)\u001b[0m\n\u001b[1;32m    220\u001b[0m     \u001b[0;32melse\u001b[0m\u001b[0;34m:\u001b[0m\u001b[0;34m\u001b[0m\u001b[0;34m\u001b[0m\u001b[0m\n\u001b[1;32m    221\u001b[0m         \u001b[0mopener\u001b[0m \u001b[0;34m=\u001b[0m \u001b[0m_opener\u001b[0m\u001b[0;34m\u001b[0m\u001b[0;34m\u001b[0m\u001b[0m\n\u001b[0;32m--> 222\u001b[0;31m     \u001b[0;32mreturn\u001b[0m \u001b[0mopener\u001b[0m\u001b[0;34m.\u001b[0m\u001b[0mopen\u001b[0m\u001b[0;34m(\u001b[0m\u001b[0murl\u001b[0m\u001b[0;34m,\u001b[0m \u001b[0mdata\u001b[0m\u001b[0;34m,\u001b[0m \u001b[0mtimeout\u001b[0m\u001b[0;34m)\u001b[0m\u001b[0;34m\u001b[0m\u001b[0;34m\u001b[0m\u001b[0m\n\u001b[0m\u001b[1;32m    223\u001b[0m \u001b[0;34m\u001b[0m\u001b[0m\n\u001b[1;32m    224\u001b[0m \u001b[0;32mdef\u001b[0m \u001b[0minstall_opener\u001b[0m\u001b[0;34m(\u001b[0m\u001b[0mopener\u001b[0m\u001b[0;34m)\u001b[0m\u001b[0;34m:\u001b[0m\u001b[0;34m\u001b[0m\u001b[0;34m\u001b[0m\u001b[0m\n",
            "\u001b[0;32m/usr/lib/python3.7/urllib/request.py\u001b[0m in \u001b[0;36mopen\u001b[0;34m(self, fullurl, data, timeout)\u001b[0m\n\u001b[1;32m    529\u001b[0m         \u001b[0;32mfor\u001b[0m \u001b[0mprocessor\u001b[0m \u001b[0;32min\u001b[0m \u001b[0mself\u001b[0m\u001b[0;34m.\u001b[0m\u001b[0mprocess_response\u001b[0m\u001b[0;34m.\u001b[0m\u001b[0mget\u001b[0m\u001b[0;34m(\u001b[0m\u001b[0mprotocol\u001b[0m\u001b[0;34m,\u001b[0m \u001b[0;34m[\u001b[0m\u001b[0;34m]\u001b[0m\u001b[0;34m)\u001b[0m\u001b[0;34m:\u001b[0m\u001b[0;34m\u001b[0m\u001b[0;34m\u001b[0m\u001b[0m\n\u001b[1;32m    530\u001b[0m             \u001b[0mmeth\u001b[0m \u001b[0;34m=\u001b[0m \u001b[0mgetattr\u001b[0m\u001b[0;34m(\u001b[0m\u001b[0mprocessor\u001b[0m\u001b[0;34m,\u001b[0m \u001b[0mmeth_name\u001b[0m\u001b[0;34m)\u001b[0m\u001b[0;34m\u001b[0m\u001b[0;34m\u001b[0m\u001b[0m\n\u001b[0;32m--> 531\u001b[0;31m             \u001b[0mresponse\u001b[0m \u001b[0;34m=\u001b[0m \u001b[0mmeth\u001b[0m\u001b[0;34m(\u001b[0m\u001b[0mreq\u001b[0m\u001b[0;34m,\u001b[0m \u001b[0mresponse\u001b[0m\u001b[0;34m)\u001b[0m\u001b[0;34m\u001b[0m\u001b[0;34m\u001b[0m\u001b[0m\n\u001b[0m\u001b[1;32m    532\u001b[0m \u001b[0;34m\u001b[0m\u001b[0m\n\u001b[1;32m    533\u001b[0m         \u001b[0;32mreturn\u001b[0m \u001b[0mresponse\u001b[0m\u001b[0;34m\u001b[0m\u001b[0;34m\u001b[0m\u001b[0m\n",
            "\u001b[0;32m/usr/lib/python3.7/urllib/request.py\u001b[0m in \u001b[0;36mhttp_response\u001b[0;34m(self, request, response)\u001b[0m\n\u001b[1;32m    639\u001b[0m         \u001b[0;32mif\u001b[0m \u001b[0;32mnot\u001b[0m \u001b[0;34m(\u001b[0m\u001b[0;36m200\u001b[0m \u001b[0;34m<=\u001b[0m \u001b[0mcode\u001b[0m \u001b[0;34m<\u001b[0m \u001b[0;36m300\u001b[0m\u001b[0;34m)\u001b[0m\u001b[0;34m:\u001b[0m\u001b[0;34m\u001b[0m\u001b[0;34m\u001b[0m\u001b[0m\n\u001b[1;32m    640\u001b[0m             response = self.parent.error(\n\u001b[0;32m--> 641\u001b[0;31m                 'http', request, response, code, msg, hdrs)\n\u001b[0m\u001b[1;32m    642\u001b[0m \u001b[0;34m\u001b[0m\u001b[0m\n\u001b[1;32m    643\u001b[0m         \u001b[0;32mreturn\u001b[0m \u001b[0mresponse\u001b[0m\u001b[0;34m\u001b[0m\u001b[0;34m\u001b[0m\u001b[0m\n",
            "\u001b[0;32m/usr/lib/python3.7/urllib/request.py\u001b[0m in \u001b[0;36merror\u001b[0;34m(self, proto, *args)\u001b[0m\n\u001b[1;32m    567\u001b[0m         \u001b[0;32mif\u001b[0m \u001b[0mhttp_err\u001b[0m\u001b[0;34m:\u001b[0m\u001b[0;34m\u001b[0m\u001b[0;34m\u001b[0m\u001b[0m\n\u001b[1;32m    568\u001b[0m             \u001b[0margs\u001b[0m \u001b[0;34m=\u001b[0m \u001b[0;34m(\u001b[0m\u001b[0mdict\u001b[0m\u001b[0;34m,\u001b[0m \u001b[0;34m'default'\u001b[0m\u001b[0;34m,\u001b[0m \u001b[0;34m'http_error_default'\u001b[0m\u001b[0;34m)\u001b[0m \u001b[0;34m+\u001b[0m \u001b[0morig_args\u001b[0m\u001b[0;34m\u001b[0m\u001b[0;34m\u001b[0m\u001b[0m\n\u001b[0;32m--> 569\u001b[0;31m             \u001b[0;32mreturn\u001b[0m \u001b[0mself\u001b[0m\u001b[0;34m.\u001b[0m\u001b[0m_call_chain\u001b[0m\u001b[0;34m(\u001b[0m\u001b[0;34m*\u001b[0m\u001b[0margs\u001b[0m\u001b[0;34m)\u001b[0m\u001b[0;34m\u001b[0m\u001b[0;34m\u001b[0m\u001b[0m\n\u001b[0m\u001b[1;32m    570\u001b[0m \u001b[0;34m\u001b[0m\u001b[0m\n\u001b[1;32m    571\u001b[0m \u001b[0;31m# XXX probably also want an abstract factory that knows when it makes\u001b[0m\u001b[0;34m\u001b[0m\u001b[0;34m\u001b[0m\u001b[0;34m\u001b[0m\u001b[0m\n",
            "\u001b[0;32m/usr/lib/python3.7/urllib/request.py\u001b[0m in \u001b[0;36m_call_chain\u001b[0;34m(self, chain, kind, meth_name, *args)\u001b[0m\n\u001b[1;32m    501\u001b[0m         \u001b[0;32mfor\u001b[0m \u001b[0mhandler\u001b[0m \u001b[0;32min\u001b[0m \u001b[0mhandlers\u001b[0m\u001b[0;34m:\u001b[0m\u001b[0;34m\u001b[0m\u001b[0;34m\u001b[0m\u001b[0m\n\u001b[1;32m    502\u001b[0m             \u001b[0mfunc\u001b[0m \u001b[0;34m=\u001b[0m \u001b[0mgetattr\u001b[0m\u001b[0;34m(\u001b[0m\u001b[0mhandler\u001b[0m\u001b[0;34m,\u001b[0m \u001b[0mmeth_name\u001b[0m\u001b[0;34m)\u001b[0m\u001b[0;34m\u001b[0m\u001b[0;34m\u001b[0m\u001b[0m\n\u001b[0;32m--> 503\u001b[0;31m             \u001b[0mresult\u001b[0m \u001b[0;34m=\u001b[0m \u001b[0mfunc\u001b[0m\u001b[0;34m(\u001b[0m\u001b[0;34m*\u001b[0m\u001b[0margs\u001b[0m\u001b[0;34m)\u001b[0m\u001b[0;34m\u001b[0m\u001b[0;34m\u001b[0m\u001b[0m\n\u001b[0m\u001b[1;32m    504\u001b[0m             \u001b[0;32mif\u001b[0m \u001b[0mresult\u001b[0m \u001b[0;32mis\u001b[0m \u001b[0;32mnot\u001b[0m \u001b[0;32mNone\u001b[0m\u001b[0;34m:\u001b[0m\u001b[0;34m\u001b[0m\u001b[0;34m\u001b[0m\u001b[0m\n\u001b[1;32m    505\u001b[0m                 \u001b[0;32mreturn\u001b[0m \u001b[0mresult\u001b[0m\u001b[0;34m\u001b[0m\u001b[0;34m\u001b[0m\u001b[0m\n",
            "\u001b[0;32m/usr/lib/python3.7/urllib/request.py\u001b[0m in \u001b[0;36mhttp_error_default\u001b[0;34m(self, req, fp, code, msg, hdrs)\u001b[0m\n\u001b[1;32m    647\u001b[0m \u001b[0;32mclass\u001b[0m \u001b[0mHTTPDefaultErrorHandler\u001b[0m\u001b[0;34m(\u001b[0m\u001b[0mBaseHandler\u001b[0m\u001b[0;34m)\u001b[0m\u001b[0;34m:\u001b[0m\u001b[0;34m\u001b[0m\u001b[0;34m\u001b[0m\u001b[0m\n\u001b[1;32m    648\u001b[0m     \u001b[0;32mdef\u001b[0m \u001b[0mhttp_error_default\u001b[0m\u001b[0;34m(\u001b[0m\u001b[0mself\u001b[0m\u001b[0;34m,\u001b[0m \u001b[0mreq\u001b[0m\u001b[0;34m,\u001b[0m \u001b[0mfp\u001b[0m\u001b[0;34m,\u001b[0m \u001b[0mcode\u001b[0m\u001b[0;34m,\u001b[0m \u001b[0mmsg\u001b[0m\u001b[0;34m,\u001b[0m \u001b[0mhdrs\u001b[0m\u001b[0;34m)\u001b[0m\u001b[0;34m:\u001b[0m\u001b[0;34m\u001b[0m\u001b[0;34m\u001b[0m\u001b[0m\n\u001b[0;32m--> 649\u001b[0;31m         \u001b[0;32mraise\u001b[0m \u001b[0mHTTPError\u001b[0m\u001b[0;34m(\u001b[0m\u001b[0mreq\u001b[0m\u001b[0;34m.\u001b[0m\u001b[0mfull_url\u001b[0m\u001b[0;34m,\u001b[0m \u001b[0mcode\u001b[0m\u001b[0;34m,\u001b[0m \u001b[0mmsg\u001b[0m\u001b[0;34m,\u001b[0m \u001b[0mhdrs\u001b[0m\u001b[0;34m,\u001b[0m \u001b[0mfp\u001b[0m\u001b[0;34m)\u001b[0m\u001b[0;34m\u001b[0m\u001b[0;34m\u001b[0m\u001b[0m\n\u001b[0m\u001b[1;32m    650\u001b[0m \u001b[0;34m\u001b[0m\u001b[0m\n\u001b[1;32m    651\u001b[0m \u001b[0;32mclass\u001b[0m \u001b[0mHTTPRedirectHandler\u001b[0m\u001b[0;34m(\u001b[0m\u001b[0mBaseHandler\u001b[0m\u001b[0;34m)\u001b[0m\u001b[0;34m:\u001b[0m\u001b[0;34m\u001b[0m\u001b[0;34m\u001b[0m\u001b[0m\n",
            "\u001b[0;31mHTTPError\u001b[0m: HTTP Error 404: Not Found"
          ]
        }
      ]
    },
    {
      "cell_type": "code",
      "source": [
        "len(AGUA_SUB)"
      ],
      "metadata": {
        "colab": {
          "base_uri": "https://localhost:8080/",
          "height": 169
        },
        "id": "LztmG9GSiYQz",
        "outputId": "0edfce08-ab2f-4e7f-9ca0-014bb2afc5b2"
      },
      "execution_count": 11,
      "outputs": [
        {
          "output_type": "error",
          "ename": "NameError",
          "evalue": "ignored",
          "traceback": [
            "\u001b[0;31m---------------------------------------------------------------------------\u001b[0m",
            "\u001b[0;31mNameError\u001b[0m                                 Traceback (most recent call last)",
            "\u001b[0;32m<ipython-input-11-10c05147d40b>\u001b[0m in \u001b[0;36m<module>\u001b[0;34m\u001b[0m\n\u001b[0;32m----> 1\u001b[0;31m \u001b[0mlen\u001b[0m\u001b[0;34m(\u001b[0m\u001b[0mAGUA_SUB\u001b[0m\u001b[0;34m)\u001b[0m\u001b[0;34m\u001b[0m\u001b[0;34m\u001b[0m\u001b[0m\n\u001b[0m",
            "\u001b[0;31mNameError\u001b[0m: name 'AGUA_SUB' is not defined"
          ]
        }
      ]
    },
    {
      "cell_type": "code",
      "source": [
        "AGUA_SUB.dtypes"
      ],
      "metadata": {
        "colab": {
          "base_uri": "https://localhost:8080/"
        },
        "id": "XRY30YYYi8YX",
        "outputId": "51fe433f-09b0-4dba-e774-366dc6ce6844"
      },
      "execution_count": null,
      "outputs": [
        {
          "output_type": "execute_result",
          "data": {
            "text/plain": [
              "CLAVE                    int64\n",
              "SITIO                  float64\n",
              "ORGANISMO_DE_CUENCA    float64\n",
              "ESTADO                 float64\n",
              "MUNICIPIO              float64\n",
              "ACUIFERO               float64\n",
              "SUBTIPO                float64\n",
              "LONGITUD               float64\n",
              "LATITUD                float64\n",
              "PERIODO                float64\n",
              "ALC_mg/L               float64\n",
              "CALIDAD_ALC            float64\n",
              "CONDUCT_mS/cm          float64\n",
              "CALIDAD_CONDUC         float64\n",
              "SDT_mg/L               float64\n",
              "SDT_M_mg/L             float64\n",
              "CALIDAD_SDT_ra         float64\n",
              "CALIDAD_SDT_salin      float64\n",
              "FLUORUROS_mg/L         float64\n",
              "CALIDAD_FLUO           float64\n",
              "DUR_mg/L               float64\n",
              "CALIDAD_DUR            float64\n",
              "COLI_FEC_NMP/100_mL    float64\n",
              "Y                      float64\n",
              "dtype: object"
            ]
          },
          "metadata": {},
          "execution_count": 29
        }
      ]
    },
    {
      "cell_type": "code",
      "source": [
        "AGUA_SUB.shape"
      ],
      "metadata": {
        "colab": {
          "base_uri": "https://localhost:8080/"
        },
        "id": "kpJ58K4NjJqR",
        "outputId": "38933385-d264-404b-e55c-7dc21e953d32"
      },
      "execution_count": null,
      "outputs": [
        {
          "output_type": "execute_result",
          "data": {
            "text/plain": [
              "(30000, 24)"
            ]
          },
          "metadata": {},
          "execution_count": 30
        }
      ]
    }
  ]
}